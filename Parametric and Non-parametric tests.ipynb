{
 "cells": [
  {
   "cell_type": "markdown",
   "metadata": {},
   "source": [
    "# One-sample z-test:"
   ]
  },
  {
   "cell_type": "markdown",
   "metadata": {},
   "source": [
    "* Test whether the mean of a population is greater than, less than or not equal to a specific value.\n",
    "* The test assummes that the population standard deviation is known.\n",
    "* The data in the population is approximatelly normally distributed."
   ]
  },
  {
   "attachments": {
    "image.png": {
     "image/png": "[encoded data removed]"
    }
   },
   "cell_type": "markdown",
   "metadata": {},
   "source": [
    "<b> Formula: </b>\n",
    "![image.png](attachment:image.png)"
   ]
  },
  {
   "cell_type": "code",
   "execution_count": 1,
   "metadata": {},
   "outputs": [
    {
     "name": "stdout",
     "output_type": "stream",
     "text": [
      "p-value right tailed: 0.04204047982551029\tp-value<alpha: True\n",
      "p-value left tailed: 0.9579595201744897\t\tp-value<alpha: False\n",
      "p-value not equal: 0.08408095965102058\t\tp-value<alpha: False\n"
     ]
    }
   ],
   "source": [
    "path = \"https://assets.datacamp.com/production/repositories/5982/datasets/c59033b93930652f402e30db77c3b8ef713dd701/stack_overflow.feather\"\n",
    "\n",
    "import pandas as pd\n",
    "import numpy as np\n",
    "from scipy.stats import norm\n",
    "\n",
    "stack_overflow = pd.read_feather(path)\n",
    "\n",
    "# Hypothesis(null) : The mean annual compensation of the population of data scientists is $ 110,000.\n",
    "# Hypothesis(alternative): The mean annual compensation of the population of data scientists is more than|less|not equal -\n",
    "# to $110,000.\n",
    "# --------------------------------------------------------------------------------\n",
    "\n",
    "# alpha : 0.05\n",
    "alpha = 0.05\n",
    "\n",
    "# calculate sample mean:(x_bar)\n",
    "sample_mean = stack_overflow[\"converted_comp\"].mean()\n",
    "\n",
    "# null hypothesis:(u_0)\n",
    "null_hypothesis = 110000\n",
    "\n",
    "# calculate standard error: (2 way)\n",
    "\n",
    "# first(boostrap)\n",
    "boostrap = [stack_overflow.sample(frac=1, replace=True)[\"converted_comp\"].mean() for i in range(5000)]\n",
    "standard_error_1 = np.std(boostrap, ddof=1)\n",
    "\n",
    "# second(formula)\n",
    "standard_deviation = np.std(stack_overflow[\"converted_comp\"])\n",
    "data_length = len(stack_overflow)\n",
    "standard_error_2 = standard_deviation / np.sqrt(data_length)\n",
    "\n",
    "# calculate z-score.\n",
    "z_score_1 = (sample_mean - null_hypothesis) / standard_error_1\n",
    "z_score_2 = (sample_mean - null_hypothesis) / standard_error_2\n",
    "\n",
    "##  calculate p-value.(right-tailed test, left-tailed test and 2 tailed test)\n",
    "\n",
    "\n",
    "# right tailed.\n",
    "p_value_right = 1 - norm.cdf(z_score_1, loc=0, scale=1)\n",
    "\n",
    "# left tailed.\n",
    "p_value_left = norm.cdf(z_score_1, loc=0, scale=1)\n",
    "\n",
    "# not equal to 110.000\n",
    "p_value_not_equal = (2 * (1 - norm.cdf(z_score_1, loc=0, scale=1)))\n",
    "\n",
    "print(\"p-value right tailed: {}\\tp-value<alpha: {}\".format(p_value_right, p_value_right<alpha))\n",
    "print(\"p-value left tailed: {}\\t\\tp-value<alpha: {}\".format(p_value_left, p_value_left<alpha))\n",
    "print(\"p-value not equal: {}\\t\\tp-value<alpha: {}\".format(p_value_not_equal, p_value_not_equal<alpha))"
   ]
  },
  {
   "cell_type": "code",
   "execution_count": 2,
   "metadata": {},
   "outputs": [
    {
     "name": "stdout",
     "output_type": "stream",
     "text": [
      "p-value right tailed: 0.04322480095025359\tp-value<alpha: True\n",
      "p-value left tailed: 0.9567751990497464\t\tp-value<alpha: False\n",
      "p-value not equal: 0.08644960190050718\t\tp-value<alpha: False\n"
     ]
    }
   ],
   "source": [
    "# use statsmodels for one-sample z-test:\n",
    "from statsmodels.stats.weightstats import ztest\n",
    "\n",
    "right_tailed_ztest = ztest(x1 = stack_overflow[\"converted_comp\"], value=110000, alternative=\"larger\", ddof=1)\n",
    "left_tailed_ztest = ztest(x1 = stack_overflow[\"converted_comp\"], value=110000, alternative=\"smaller\", ddof=1)\n",
    "not_equal_ztest = ztest(x1 = stack_overflow[\"converted_comp\"], value=110000, alternative=\"two-sided\", ddof=1)\n",
    "\n",
    "print(\"p-value right tailed: {}\\tp-value<alpha: {}\".format(right_tailed_ztest[1], right_tailed_ztest[1]<alpha))\n",
    "print(\"p-value left tailed: {}\\t\\tp-value<alpha: {}\".format(left_tailed_ztest[1], left_tailed_ztest[1]<alpha))\n",
    "print(\"p-value not equal: {}\\t\\tp-value<alpha: {}\".format(not_equal_ztest[1], not_equal_ztest[1]<alpha))"
   ]
  },
  {
   "cell_type": "markdown",
   "metadata": {},
   "source": [
    "# One-sample t-test:"
   ]
  },
  {
   "cell_type": "markdown",
   "metadata": {},
   "source": [
    "* The variable under study should have no outliers.\n",
    "* The variable under study should be approximately normally distributed.\n",
    "* The observations in the sample should be independent.\n",
    "* Standard deviation is unknown."
   ]
  },
  {
   "attachments": {
    "image.png": {
     "image/png": "[encoded data removed]"
    }
   },
   "cell_type": "markdown",
   "metadata": {},
   "source": [
    "<b>Formula:</b>\n",
    "![image.png](attachment:image.png)"
   ]
  },
  {
   "cell_type": "code",
   "execution_count": 3,
   "metadata": {},
   "outputs": [
    {
     "name": "stdout",
     "output_type": "stream",
     "text": [
      "p-value right tailed: 0.9399276962875095\tp-value<alpha: False\n",
      "p-value left tailed: 0.060072303712490505\tp-value<alpha: True\n",
      "p-value not equal: 0.12014460742498101\t\tp-value<alpha: False\n"
     ]
    }
   ],
   "source": [
    "from scipy.stats import ttest_1samp\n",
    "\n",
    "data = [14, 14, 16, 13, 12, 17, 15, 14, 15, 13, 15, 14]\n",
    "\n",
    "# h0: The height of this speciies plant is 15 inches.\n",
    "# h1: less | more | not equal.\n",
    "\n",
    "\n",
    "# alpha: 0.1\n",
    "alpha = 0.1\n",
    "\n",
    "# a = sample observation.\n",
    "# popmean = null hypothesis(expected value)\n",
    "# alternative = altenative hypothesis.\n",
    "left = ttest_1samp(a=data, popmean=15, alternative = \"less\")\n",
    "right = ttest_1samp(a=data, popmean=15, alternative = \"greater\")\n",
    "two_sided = ttest_1samp(a=data, popmean=15, alternative = \"two-sided\")\n",
    "\n",
    "print(\"p-value right tailed: {}\\tp-value<alpha: {}\".format(right[1], right[1]<alpha))\n",
    "print(\"p-value left tailed: {}\\tp-value<alpha: {}\".format(left[1], left[1]<alpha))\n",
    "print(\"p-value not equal: {}\\t\\tp-value<alpha: {}\".format(two_sided[1], two_sided[1]<alpha))"
   ]
  },
  {
   "cell_type": "code",
   "execution_count": 4,
   "metadata": {},
   "outputs": [
    {
     "name": "stdout",
     "output_type": "stream",
     "text": [
      "p-value right tailed: 0.9399276962875094\tp-value<alpha: False\n",
      "p-value left tailed: 0.060072303712490574\tp-value<alpha: True\n",
      "p-value not equal: 0.12014460742498123\t\tp-value<alpha: False\n"
     ]
    }
   ],
   "source": [
    "# calculate using formula.\n",
    "\n",
    "# sample mean:\n",
    "x_bar = np.mean(data)\n",
    "\n",
    "# null hypothesis:\n",
    "null_hypothesis = 15\n",
    "\n",
    "# standard deviation of sample data.\n",
    "std = np.std(data, ddof=1)\n",
    "\n",
    "# square of length data.\n",
    "sqrt_length_dt = np.sqrt(len(data))\n",
    "\n",
    "# standard_error\n",
    "standard_error = std / sqrt_length_dt\n",
    "\n",
    "# t-test:\n",
    "t_test = (x_bar - null_hypothesis) / standard_error\n",
    "\n",
    "from scipy.stats import t\n",
    "\n",
    "degrees_of_freedom = len(data) - 1\n",
    "\n",
    "right = 1 - t.cdf(t_test, loc=0, scale=1, df = degrees_of_freedom)\n",
    "left = t.cdf(t_test, loc=0, scale=1, df=degrees_of_freedom)\n",
    "two_sided = 2 -  (2 * (1 - t.cdf(t_test, loc=0, scale=1, df=degrees_of_freedom)))\n",
    "\n",
    "print(\"p-value right tailed: {}\\tp-value<alpha: {}\".format(right, right<alpha))\n",
    "print(\"p-value left tailed: {}\\tp-value<alpha: {}\".format(left, left<alpha))\n",
    "print(\"p-value not equal: {}\\t\\tp-value<alpha: {}\".format(two_sided, two_sided<alpha))"
   ]
  },
  {
   "cell_type": "markdown",
   "metadata": {},
   "source": [
    "# One-proportion z-test:"
   ]
  },
  {
   "cell_type": "markdown",
   "metadata": {},
   "source": [
    "The one-proportion z-test is a statistical test used to determine if the proporations of categories in a single qualitative variable significantly differ from an expected or known population proportion."
   ]
  },
  {
   "cell_type": "markdown",
   "metadata": {},
   "source": [
    "<b>Formula:</b>"
   ]
  },
  {
   "attachments": {
    "image.png": {
     "image/png": "[encoded data removed]"
    }
   },
   "cell_type": "markdown",
   "metadata": {},
   "source": [
    "![image.png](attachment:image.png)"
   ]
  },
  {
   "cell_type": "code",
   "execution_count": 5,
   "metadata": {},
   "outputs": [
    {
     "name": "stdout",
     "output_type": "stream",
     "text": [
      "p-value right tailed: 0.00035471136840503625\tp-value<alpha: True\n",
      "p-value left tailed: 0.999645288631595\t\tp-value<alpha: False\n",
      "p-value not equal: 0.0007094227368100725\tp-value<alpha: True\n"
     ]
    }
   ],
   "source": [
    "# Example: stack_overflow data age categories.\n",
    "\n",
    "# ---------------------------------------------\n",
    "# H0: Proportion of stack overflow users under thirty = 0.5\n",
    "# H1: Proportion of stack overflow users under thirty != 0.5\n",
    "# ---------------------------------------------\n",
    "\n",
    "import pandas as pd\n",
    "import numpy as np\n",
    "from scipy.stats import norm\n",
    "\n",
    "# define significance level(alpha): 0.01\n",
    "alpha = 0.01\n",
    "\n",
    "# define proportion of observation of \"under 30\"\n",
    "p_hat = (stack_overflow[\"age_cat\"] == \"Under 30\").mean()\n",
    "\n",
    "# define null hypothesize for proportion.\n",
    "p_0 = 0.5\n",
    "\n",
    "# calculate denominator of formula:\n",
    "denominator = np.sqrt(p_0 * (1 - p_0) / len(stack_overflow))\n",
    "\n",
    "# find z-score for one-proportion :\n",
    "z_score = (p_hat - p_0) / denominator\n",
    "\n",
    "# find p-value: (right, left, two-sided)\n",
    "p_value_right = 1 - norm.cdf(z_score, loc=0, scale=1)\n",
    "p_value_left = norm.cdf(z_score, loc=0, scale=1)\n",
    "p_value_two_sided = (2 * (1 - norm.cdf(z_score, loc=0, scale=1)))\n",
    "\n",
    "print(\"p-value right tailed: {}\\tp-value<alpha: {}\".format(p_value_right, p_value_right<alpha))\n",
    "print(\"p-value left tailed: {}\\t\\tp-value<alpha: {}\".format(p_value_left, p_value_left<alpha))\n",
    "print(\"p-value not equal: {}\\tp-value<alpha: {}\".format(p_value_two_sided, p_value_two_sided<alpha))"
   ]
  },
  {
   "cell_type": "markdown",
   "metadata": {},
   "source": [
    "# Two samples Z-test for means:"
   ]
  },
  {
   "attachments": {
    "image.png": {
     "image/png": "[encoded data removed]"
    }
   },
   "cell_type": "markdown",
   "metadata": {},
   "source": [
    "<b>Formula:</b>\n",
    "![image.png](attachment:image.png)"
   ]
  },
  {
   "cell_type": "markdown",
   "metadata": {},
   "source": [
    "* A two sample z-test is used to test whether two population means are equal.\n",
    "* This test assumes that the standard deviation of each population is known.\n",
    "* If the population standard deviation is known and sample size greater than 30, z-test is recommended.\n",
    "* If the population standard deviation is known but sample size less than or equal to 30, not recommonded.\n",
    "* If the population standard deviation is unknown , not recommended.\n",
    "****\n",
    "<b>Assumptions:</b>\n",
    "* The data from each population are continuous.\n",
    "* The data in each population is approximately normally distributed.\n",
    "* The population standard deviations are known."
   ]
  },
  {
   "cell_type": "code",
   "execution_count": 6,
   "metadata": {},
   "outputs": [
    {
     "data": {
      "image/png": "[encoded data removed]",
      "text/plain": [
       "<Figure size 432x288 with 1 Axes>"
      ]
     },
     "metadata": {
      "needs_background": "light"
     },
     "output_type": "display_data"
    },
    {
     "data": {
      "text/html": [
       "<div>\n",
       "<style scoped>\n",
       "    .dataframe tbody tr th:only-of-type {\n",
       "        vertical-align: middle;\n",
       "    }\n",
       "\n",
       "    .dataframe tbody tr th {\n",
       "        vertical-align: top;\n",
       "    }\n",
       "\n",
       "    .dataframe thead th {\n",
       "        text-align: right;\n",
       "    }\n",
       "</style>\n",
       "<table border=\"1\" class=\"dataframe\">\n",
       "  <thead>\n",
       "    <tr style=\"text-align: right;\">\n",
       "      <th></th>\n",
       "      <th>z_test</th>\n",
       "      <th>p_values</th>\n",
       "      <th>alpha</th>\n",
       "      <th>alternatives</th>\n",
       "      <th>success</th>\n",
       "      <th>reject or failed to reject</th>\n",
       "    </tr>\n",
       "  </thead>\n",
       "  <tbody>\n",
       "    <tr>\n",
       "      <th>0</th>\n",
       "      <td>-2.047159</td>\n",
       "      <td>0.979679</td>\n",
       "      <td>0.05</td>\n",
       "      <td>right-tailed</td>\n",
       "      <td>False</td>\n",
       "      <td>Fail to reject</td>\n",
       "    </tr>\n",
       "    <tr>\n",
       "      <th>1</th>\n",
       "      <td>-2.047159</td>\n",
       "      <td>0.020321</td>\n",
       "      <td>0.05</td>\n",
       "      <td>left-tailed</td>\n",
       "      <td>True</td>\n",
       "      <td>Reject null hypothesis</td>\n",
       "    </tr>\n",
       "    <tr>\n",
       "      <th>2</th>\n",
       "      <td>-2.047159</td>\n",
       "      <td>0.040642</td>\n",
       "      <td>0.05</td>\n",
       "      <td>two-sided</td>\n",
       "      <td>True</td>\n",
       "      <td>Reject null hypothesis</td>\n",
       "    </tr>\n",
       "  </tbody>\n",
       "</table>\n",
       "</div>"
      ],
      "text/plain": [
       "     z_test  p_values  alpha  alternatives  success reject or failed to reject\n",
       "0 -2.047159  0.979679   0.05  right-tailed    False             Fail to reject\n",
       "1 -2.047159  0.020321   0.05   left-tailed     True     Reject null hypothesis\n",
       "2 -2.047159  0.040642   0.05     two-sided     True     Reject null hypothesis"
      ]
     },
     "execution_count": 6,
     "metadata": {},
     "output_type": "execute_result"
    }
   ],
   "source": [
    "# Without using library.\n",
    "\n",
    "import numpy as np\n",
    "from scipy.stats import norm\n",
    "import pandas as pd\n",
    "import matplotlib.pyplot as plt\n",
    "import seaborn as sns\n",
    "\n",
    "cityA = [82, 84, 85, 89, 91, 91, 92, 94, 99, 99,\n",
    "         105, 109, 109, 109, 110, 112, 112, 113, 114, 114]\n",
    "\n",
    "cityB = [90, 91, 91, 91, 95, 95, 99, 99, 108, 109,\n",
    "         109, 114, 115, 116, 117, 117, 128, 129, 130, 133]\n",
    "\n",
    "# H0: Mean of IQ level in city A and B is equal.\n",
    "# H1: Mean of IQ level in city A and B is not euqal.| A is larger than B | A is smaller than B.\n",
    "\n",
    "\n",
    "# Define alpha value\n",
    "alpha = 0.05\n",
    "\n",
    "\n",
    "def z_test_two_sample(group_1, group_2, alpha):\n",
    "    \n",
    "    x_1 = np.mean(group_1)\n",
    "    x_2 = np.mean(group_2)\n",
    "    \n",
    "    d_0 = 0\n",
    "    \n",
    "    std_1 = np.std(group_1)\n",
    "    std_2 = np.std(group_2)\n",
    "    \n",
    "    n1 = len(group_1)\n",
    "    n2 = len(group_2)\n",
    "    \n",
    "    numerator = (x_1 - x_2) - d_0\n",
    "    \n",
    "    denominator = np.sqrt((np.square(std_1) / n1) + (np.square(std_2) / n2))\n",
    "    \n",
    "    z_test = numerator / denominator\n",
    "    \n",
    "    \n",
    "    # calculate p-values\n",
    "    p_value_right = 1 - norm.cdf(z_test, loc = 0, scale = 1)\n",
    "    p_value_left = norm.cdf(z_test, loc = 0, scale = 1)\n",
    "    p_value_two_sided = 2 - (2 * (1 - norm.cdf(z_test, loc = 0, scale=1)))\n",
    "    \n",
    "    # compare with alpha\n",
    "    right_tailed_check = p_value_right < alpha\n",
    "    left_tailed_check = p_value_left < alpha\n",
    "    two_sided_check = p_value_two_sided < alpha\n",
    "    \n",
    "    # create a dataframe result table.\n",
    "    \n",
    "    r = [right_tailed_check, left_tailed_check, two_sided_check]\n",
    "    \n",
    "    res = {\"z_test\": [z_test for i in range(3)],\n",
    "         \"p_values\": [p_value_right, p_value_left, p_value_two_sided],\n",
    "         \"alpha\": [alpha for i in range(3)],\n",
    "         \"alternatives\": [\"right-tailed\", \"left-tailed\", \"two-sided\"],\n",
    "         \"success\": [right_tailed_check, left_tailed_check, two_sided_check],\n",
    "         \"reject or failed to reject\": [\"Reject null hypothesis\" if i == True  else \"Fail to reject\" for i in r]}\n",
    "    \n",
    "    \n",
    "    # Create bar plot of means of group 1 and group 2.\n",
    "    \n",
    "    n = len(group_1) + len(group_2)\n",
    "    \n",
    "    d = {\"IQ\": cityA + cityB, \"City\": [\"City_A\" if i <= 20 else \"City_B\" for i in range(n)]}\n",
    "    \n",
    "    data = pd.DataFrame(d)\n",
    "    \n",
    "    data = data.groupby(\"City\")[\"IQ\"].mean().reset_index()\n",
    "    \n",
    "    sns.barplot(data = data, x = \"City\", y = \"IQ\")\n",
    "    plt.title(\"Means of City A and City B \")\n",
    "    \n",
    "    plt.show()\n",
    "    \n",
    "    results = pd.DataFrame(res)\n",
    "    \n",
    "    \n",
    "    \n",
    "    return results\n",
    "            \n",
    "\n",
    "z_test_two_sample(group_1 = cityA, group_2 = cityB, alpha = alpha)"
   ]
  },
  {
   "cell_type": "code",
   "execution_count": 7,
   "metadata": {},
   "outputs": [
    {
     "data": {
      "text/plain": [
       "(-1.9953236073282115, 0.046007596761332065)"
      ]
     },
     "execution_count": 7,
     "metadata": {},
     "output_type": "execute_result"
    }
   ],
   "source": [
    "# use statsmodel for two sample z-test\n",
    "\n",
    "from statsmodels.stats.weightstats import ztest\n",
    "\n",
    "ztest(x1 = cityA, x2 = cityB, value = 0, alternative = \"two-sided\")"
   ]
  },
  {
   "cell_type": "markdown",
   "metadata": {},
   "source": [
    "# Two sample pooled t-test(independent samples t-test)"
   ]
  },
  {
   "cell_type": "markdown",
   "metadata": {},
   "source": [
    "Conditions for t test:\n",
    "* Each observation should be independent of other.\n",
    "   * Sampling with replacement.\n",
    "   * If sampling without replacement, the sample size should not be more than 10 % of the population.\n",
    "* Sampling distribution approximates Normal Distribution.\n",
    "   * Population is Normally distributed and the standard deviation is unkown and sample size < 30."
   ]
  },
  {
   "cell_type": "markdown",
   "metadata": {},
   "source": [
    "If two set of <b>data are indepedent</b>, if the values in one sample reveal(ortaya çıkarmak) no information about those of the other sample, then the samples are independent.(Volume produced by two machines. )(two sample t-test)"
   ]
  },
  {
   "cell_type": "markdown",
   "metadata": {},
   "source": [
    "If the values in one sample affect the values in the other sample, then the <b>samples are dependent</b>. ( Example: Blood pressure before and after a specific medicine )(paired t-test)"
   ]
  },
  {
   "cell_type": "markdown",
   "metadata": {},
   "source": [
    "<b>Formula:</b>"
   ]
  },
  {
   "attachments": {
    "image-2.png": {
     "image/png": "[encoded data removed]"
    },
    "image.png": {
     "image/png": "[encoded data removed]"
    }
   },
   "cell_type": "markdown",
   "metadata": {},
   "source": [
    "![image.png](attachment:image.png)\n",
    "![image-2.png](attachment:image-2.png)"
   ]
  },
  {
   "cell_type": "markdown",
   "metadata": {},
   "source": [
    "In statistics, the two sample t-test for independent samples is a type of hypothesis test that can be used to determine whether the means of two populations are statistically different given the two samples are independent and have normal distributions.\n",
    "* Independent t-tests assumes that two samples are equal variance.\n",
    "* We can do two variance test is for checking the variance is equal or not. If the variances are equal then we should conduct the eqaul variances t-test, if not, then should conduct the unpooled(not equal variance) test."
   ]
  },
  {
   "cell_type": "markdown",
   "metadata": {},
   "source": [
    "<b>Examples:</b>\n",
    "* Comparing the average test scores of two classes from two different schools.\n",
    "* Comparing the average weights of two different independent groups.\n",
    "* Determining whether the medication have the same efficacy on two different or indepedent groups of people."
   ]
  },
  {
   "cell_type": "markdown",
   "metadata": {},
   "source": [
    "The feeding habits of two species of net-casting spiders are studied. The species, the deinopis and menneus, coexist in eastern Australia. The following data were obtained on the size, in millimeters, of the prey of random samples of the two species:"
   ]
  },
  {
   "cell_type": "code",
   "execution_count": 8,
   "metadata": {},
   "outputs": [
    {
     "name": "stdout",
     "output_type": "stream",
     "text": [
      "0.22900078577218805 1.2452689491491107\n"
     ]
    },
    {
     "data": {
      "text/plain": [
       "False"
      ]
     },
     "execution_count": 8,
     "metadata": {},
     "output_type": "execute_result"
    }
   ],
   "source": [
    "deinopis = np.array([12.9,10.2,7.4,7.0,10.5,11.9,7.1,9.9,14.4,11.3])\n",
    "menneus = np.array([10.2,6.9,10.9,11.0,10.1,5.3,7.5,10.3,9.2,8.8])\n",
    "\n",
    "# --------------------------------\n",
    "# We assumae that equal variance.\n",
    "# we use two sample pooled t-test.\n",
    "# ---------------------------------\n",
    "\n",
    "# H0: deinopis and menneus has same mean of height.\n",
    "# H1: deionopis != menneus.\n",
    "# -------------------------------------------\n",
    "\n",
    "# alpha : 0.05\n",
    "alpha = 0.05\n",
    "\n",
    "from scipy.stats import ttest_ind\n",
    "\n",
    "t_test, p_value = ttest_ind(a = deinopis, b = menneus, equal_var=True, alternative=\"two-sided\")\n",
    "\n",
    "print(p_value,t_test)\n",
    "p_value < alpha\n",
    "# fail to reject null hypothesis."
   ]
  },
  {
   "cell_type": "code",
   "execution_count": 9,
   "metadata": {},
   "outputs": [
    {
     "name": "stdout",
     "output_type": "stream",
     "text": [
      "0.2290007857721886 1.245268949149109\n"
     ]
    },
    {
     "data": {
      "text/plain": [
       "False"
      ]
     },
     "execution_count": 9,
     "metadata": {},
     "output_type": "execute_result"
    }
   ],
   "source": [
    "# use statsmodels for pooled two sample t-test.\n",
    "\n",
    "from statsmodels.stats.weightstats import ttest_ind\n",
    "\n",
    "t_test, p_value, df = ttest_ind(x1 = deinopis, x2 = menneus, usevar=\"pooled\", alternative=\"two-sided\", value=0)\n",
    "\n",
    "print(p_value, t_test)\n",
    "p_value < alpha"
   ]
  },
  {
   "cell_type": "code",
   "execution_count": 10,
   "metadata": {},
   "outputs": [
    {
     "data": {
      "text/plain": [
       "False"
      ]
     },
     "execution_count": 10,
     "metadata": {},
     "output_type": "execute_result"
    }
   ],
   "source": [
    "import numpy as np\n",
    "from scipy.stats import t\n",
    "\n",
    "\n",
    "# numerator side:\n",
    "numerator = (np.mean(deinopis) - np.mean(menneus)) - 0\n",
    "\n",
    "# denominator side:\n",
    "n1 = len(deinopis)\n",
    "n2 = len(menneus)\n",
    "\n",
    "# df\n",
    "df = n1 + n2 - 2\n",
    "\n",
    "first = (n1 - 1) * (np.std(deinopis, ddof=1))**2\n",
    "second = (n2 - 1) * (np.std(menneus, ddof=1))**2\n",
    "\n",
    "S_p_2 = first / df + second / df\n",
    "\n",
    "\n",
    "denominator = np.sqrt(S_p_2 * (1/n1 + 1/n2))\n",
    "\n",
    "t_test = numerator / denominator\n",
    "\n",
    "p_value = 2 * (1 - t.cdf(t_test, loc=0, scale=1, df = df))\n",
    "\n",
    "p_value < alpha"
   ]
  },
  {
   "cell_type": "markdown",
   "metadata": {},
   "source": [
    "# Two sample unpooled t-test( unequal variance )"
   ]
  },
  {
   "cell_type": "markdown",
   "metadata": {},
   "source": [
    "* Welch's t-test | unequal variances t-test, is a two sample location test which is used to test the hypothesis that two populations have equal means.\n",
    "***\n",
    "<b>Formula:</b>\n",
    "* Student's t-test assumes that the sample means being compared for two populations are normally distributed.\n",
    "* Populations have equal variances. Welch's t-test is designed for unequal variances, but the assumption of normality is maintened."
   ]
  },
  {
   "attachments": {
    "image-2.png": {
     "image/png": "[encoded data removed]"
    },
    "image.png": {
     "image/png": "[encoded data removed]"
    }
   },
   "cell_type": "markdown",
   "metadata": {},
   "source": [
    "![image.png](attachment:image.png)\n",
    "![image-2.png](attachment:image-2.png)"
   ]
  },
  {
   "cell_type": "code",
   "execution_count": 11,
   "metadata": {},
   "outputs": [
    {
     "data": {
      "text/plain": [
       "False"
      ]
     },
     "execution_count": 11,
     "metadata": {},
     "output_type": "execute_result"
    }
   ],
   "source": [
    "import pandas as pd\n",
    "import numpy as np\n",
    "from scipy.stats import t\n",
    "from scipy.stats import ttest_ind as scipy_ttest\n",
    "from statsmodels.stats.weightstats import ttest_ind\n",
    "\n",
    "# H0: (age_first_code == child) data scientists have same mean annual compensation with (age_first_code == adult)\n",
    "# H1: (age_first_code == child) data scientists don't have same mean annual compensation with (age_first_code == adult)\n",
    "# -------------------------------------------------------------------------------------------------------\n",
    "\n",
    "# In here, we have two samples and these samples do not have same variances.\n",
    "# so we should welch's t-test or another name is unequal variance t-test.\n",
    "# -------------------------------------------------------------------------\n",
    "\n",
    "# define alpha.\n",
    "alpha = 0.05\n",
    "\n",
    "## First, calculate t-test.\n",
    "\n",
    "# sample means.\n",
    "x_bar_child = stack_overflow.groupby(\"age_first_code_cut\")[\"converted_comp\"].mean()[1]\n",
    "x_bar_adult = stack_overflow.groupby(\"age_first_code_cut\")[\"converted_comp\"].mean()[0]\n",
    "\n",
    "# null hypothesis ( we assume do not have difference.)\n",
    "d_0 = 0\n",
    "\n",
    "# sample standard deviations.\n",
    "s_child = stack_overflow.groupby(\"age_first_code_cut\")[\"converted_comp\"].std(ddof = 1)[1]\n",
    "s_adult = stack_overflow.groupby(\"age_first_code_cut\")[\"converted_comp\"].std(ddof = 1)[0]\n",
    "\n",
    "# n1 and n2\n",
    "n_child = stack_overflow[stack_overflow[\"age_first_code_cut\"] == \"child\"].shape[0]\n",
    "n_adult = stack_overflow[stack_overflow[\"age_first_code_cut\"] == \"adult\"].shape[0]\n",
    "\n",
    "# numerator\n",
    "numerator = (x_bar_child - x_bar_adult) - d_0\n",
    "\n",
    "# denominator\n",
    "denominator = np.sqrt((np.square(s_child) / n_child) + (np.square(s_adult) / n_adult))\n",
    "\n",
    "# t_test\n",
    "t_test = numerator / denominator\n",
    "\n",
    "## Second, calculate p-value for two-sided.\n",
    "\n",
    "df_numerator = np.square((np.square(s_child) / n_child) + (np.square(s_adult) / n_adult))\n",
    "df_denominator = (np.square(np.square(s_child) / n_child) / (n_child - 1)) + (np.square(np.square(s_adult) / n_adult) / (n_adult - 1))\n",
    "\n",
    "df = df_numerator / df_denominator\n",
    "\n",
    "# find two-sided p\n",
    "p_value = 2 * (1 - t.cdf(t_test, loc=0, scale=1, df = df))\n",
    "\n",
    "p_value < alpha"
   ]
  },
  {
   "cell_type": "code",
   "execution_count": 12,
   "metadata": {},
   "outputs": [
    {
     "data": {
      "text/plain": [
       "False"
      ]
     },
     "execution_count": 12,
     "metadata": {},
     "output_type": "execute_result"
    }
   ],
   "source": [
    "# use scipy library for two-sided unequal variance t-test.\n",
    "\n",
    "x = stack_overflow[stack_overflow[\"age_first_code_cut\"] == \"child\"][\"converted_comp\"]\n",
    "y = stack_overflow[stack_overflow[\"age_first_code_cut\"] == \"adult\"][\"converted_comp\"]\n",
    "\n",
    "\n",
    "t_test, p_value = scipy_ttest(a = x, b = y, equal_var = False, alternative=\"two-sided\")\n",
    "\n",
    "p_value < alpha"
   ]
  },
  {
   "cell_type": "code",
   "execution_count": 13,
   "metadata": {},
   "outputs": [
    {
     "data": {
      "text/plain": [
       "False"
      ]
     },
     "execution_count": 13,
     "metadata": {},
     "output_type": "execute_result"
    }
   ],
   "source": [
    "# use statsmodels library for same parametric test statistics.\n",
    "\n",
    "t_test, p_value, df = ttest_ind(x1 = x, x2 = y, alternative = \"two-sided\", usevar=\"unequal\")\n",
    "\n",
    "p_value < alpha"
   ]
  },
  {
   "cell_type": "code",
   "execution_count": 14,
   "metadata": {},
   "outputs": [],
   "source": [
    "# False, means that p_value is not smaller than alpha value, so since p-value is not within the rejected area, \n",
    "# we should say faild to reject null hypothesis.\n",
    "\n",
    "# for 0.05 alpha value evidence there is no difference between the data scientists who started as a child and adult."
   ]
  },
  {
   "cell_type": "markdown",
   "metadata": {},
   "source": [
    "# Paired t-test"
   ]
  },
  {
   "cell_type": "markdown",
   "metadata": {},
   "source": [
    "If the values in one sample affect the values in other sample, then the samples are dependent. \n",
    "  * Example: Blood pressure before and after a specific medicine.\n",
    "  ***"
   ]
  },
  {
   "cell_type": "markdown",
   "metadata": {},
   "source": [
    "* The paired t-test is a method used to test whether the mean difference between pairs of measurements is zero or not.\n",
    "* You can use the test when your data values are paired measurements. For example, you might have before-and-after measurements for a group of people.\n",
    "* Also, the distribution of differences between the paired measurements should be normally distributed."
   ]
  },
  {
   "attachments": {
    "image.png": {
     "image/png": "[encoded data removed]"
    }
   },
   "cell_type": "markdown",
   "metadata": {},
   "source": [
    "<b>Formula:</b>\n",
    "![image.png](attachment:image.png)"
   ]
  },
  {
   "cell_type": "markdown",
   "metadata": {},
   "source": [
    "* Find the difference between two set of readings as d1, d2...... dn.\n",
    "* Find the mean and standard deviation of these differences."
   ]
  },
  {
   "cell_type": "code",
   "execution_count": 15,
   "metadata": {},
   "outputs": [
    {
     "data": {
      "text/html": [
       "<div>\n",
       "<style scoped>\n",
       "    .dataframe tbody tr th:only-of-type {\n",
       "        vertical-align: middle;\n",
       "    }\n",
       "\n",
       "    .dataframe tbody tr th {\n",
       "        vertical-align: top;\n",
       "    }\n",
       "\n",
       "    .dataframe thead th {\n",
       "        text-align: right;\n",
       "    }\n",
       "</style>\n",
       "<table border=\"1\" class=\"dataframe\">\n",
       "  <thead>\n",
       "    <tr style=\"text-align: right;\">\n",
       "      <th></th>\n",
       "      <th>state</th>\n",
       "      <th>county</th>\n",
       "      <th>repub_percent_08</th>\n",
       "      <th>repub_percent_12</th>\n",
       "    </tr>\n",
       "  </thead>\n",
       "  <tbody>\n",
       "    <tr>\n",
       "      <th>0</th>\n",
       "      <td>Alabama</td>\n",
       "      <td>Hale</td>\n",
       "      <td>38.957877</td>\n",
       "      <td>37.139882</td>\n",
       "    </tr>\n",
       "    <tr>\n",
       "      <th>1</th>\n",
       "      <td>Arkansas</td>\n",
       "      <td>Nevada</td>\n",
       "      <td>56.726272</td>\n",
       "      <td>58.983452</td>\n",
       "    </tr>\n",
       "    <tr>\n",
       "      <th>2</th>\n",
       "      <td>California</td>\n",
       "      <td>Lake</td>\n",
       "      <td>38.896719</td>\n",
       "      <td>39.331367</td>\n",
       "    </tr>\n",
       "    <tr>\n",
       "      <th>3</th>\n",
       "      <td>California</td>\n",
       "      <td>Ventura</td>\n",
       "      <td>42.923190</td>\n",
       "      <td>45.250693</td>\n",
       "    </tr>\n",
       "    <tr>\n",
       "      <th>4</th>\n",
       "      <td>Colorado</td>\n",
       "      <td>Lincoln</td>\n",
       "      <td>74.522569</td>\n",
       "      <td>73.764757</td>\n",
       "    </tr>\n",
       "  </tbody>\n",
       "</table>\n",
       "</div>"
      ],
      "text/plain": [
       "        state   county  repub_percent_08  repub_percent_12\n",
       "0     Alabama     Hale         38.957877         37.139882\n",
       "1    Arkansas   Nevada         56.726272         58.983452\n",
       "2  California     Lake         38.896719         39.331367\n",
       "3  California  Ventura         42.923190         45.250693\n",
       "4    Colorado  Lincoln         74.522569         73.764757"
      ]
     },
     "execution_count": 15,
     "metadata": {},
     "output_type": "execute_result"
    }
   ],
   "source": [
    "import pandas as pd\n",
    "\n",
    "repub_votes_potus_08_12 = pd.read_feather(\"repub_votes_potus_08_12.feather\")\n",
    "\n",
    "repub_votes_potus_08_12.head()"
   ]
  },
  {
   "cell_type": "code",
   "execution_count": 16,
   "metadata": {},
   "outputs": [
    {
     "data": {
      "text/plain": [
       "-5.601043121928492"
      ]
     },
     "execution_count": 16,
     "metadata": {},
     "output_type": "execute_result"
    }
   ],
   "source": [
    "# Hypothesis : Was the percentage of Republican candidate votes lower in 2008 than 2012 ?\n",
    "\n",
    "# define alpha\n",
    "alpha = 0.05\n",
    "\n",
    "repub_votes_potus_08_12[\"diff\"] = repub_votes_potus_08_12[\"repub_percent_08\"] - repub_votes_potus_08_12[\"repub_percent_12\"]\n",
    "\n",
    "d_bar = repub_votes_potus_08_12[\"diff\"].mean()\n",
    "\n",
    "d_0 = 0\n",
    "\n",
    "s_d = repub_votes_potus_08_12[\"diff\"].std(ddof=1)\n",
    "\n",
    "n = len(repub_votes_potus_08_12[\"diff\"])\n",
    "\n",
    "numerator = d_bar - d_0\n",
    "\n",
    "denominator = s_d / np.sqrt(n)\n",
    "\n",
    "paired_t_test = numerator / denominator\n",
    "\n",
    "paired_t_test"
   ]
  },
  {
   "cell_type": "code",
   "execution_count": 17,
   "metadata": {},
   "outputs": [
    {
     "data": {
      "text/plain": [
       "True"
      ]
     },
     "execution_count": 17,
     "metadata": {},
     "output_type": "execute_result"
    }
   ],
   "source": [
    "# Calculate p-value for less than(left tailed)\n",
    "\n",
    "from scipy.stats import t\n",
    "\n",
    "degree_of_freedom = n - 1\n",
    "\n",
    "p_value = t.cdf(paired_t_test, loc=0, scale=1, df = degree_of_freedom)\n",
    "\n",
    "p_value < alpha # reject the null hypothesis."
   ]
  },
  {
   "cell_type": "code",
   "execution_count": 18,
   "metadata": {},
   "outputs": [
    {
     "data": {
      "text/plain": [
       "True"
      ]
     },
     "execution_count": 18,
     "metadata": {},
     "output_type": "execute_result"
    }
   ],
   "source": [
    "# use scipy for paired t-test.\n",
    "\n",
    "from scipy.stats import ttest_rel\n",
    "\n",
    "paired_t_test, p_value = ttest_rel(a = repub_votes_potus_08_12[\"repub_percent_08\"], \n",
    "                                   b = repub_votes_potus_08_12[\"repub_percent_12\"],\n",
    "                                   alternative=\"less\")\n",
    "\n",
    "p_value < alpha"
   ]
  },
  {
   "cell_type": "code",
   "execution_count": 19,
   "metadata": {},
   "outputs": [
    {
     "data": {
      "text/plain": [
       "T-test    True\n",
       "Name: p-val, dtype: bool"
      ]
     },
     "execution_count": 19,
     "metadata": {},
     "output_type": "execute_result"
    }
   ],
   "source": [
    "from pingouin import ttest\n",
    "\n",
    "result = ttest(x=repub_votes_potus_08_12[\"repub_percent_08\"],\n",
    "         y=repub_votes_potus_08_12[\"repub_percent_12\"],\n",
    "         alternative=\"less\",\n",
    "         paired=True)\n",
    "\n",
    "result[\"p-val\"] < alpha"
   ]
  },
  {
   "cell_type": "markdown",
   "metadata": {},
   "source": [
    "# Two proportions z-test.(pooled)"
   ]
  },
  {
   "cell_type": "markdown",
   "metadata": {},
   "source": [
    "* Two sample Z test of proportions is the test to determine whether the two populations differ significantly on specific characteristics. \n",
    "* In other words, compare the proportion of two different populations that have some single characteristics.\n",
    "***\n",
    "<b>Assumptions:</b>\n",
    "* Both populations follow a binomial distribution. The data contains only two categories, such as pass/fail or yes/no.\n",
    "* Samples are independent of each other.\n",
    "* Test results are accurate when <b>n x p</b> and <b>n x (1 - p)</b> are greater than 5, in some books it is 10.\n",
    "* Random samples."
   ]
  },
  {
   "attachments": {
    "image-2.png": {
     "image/png": "[encoded data removed]"
    },
    "image.png": {
     "image/png": "[encoded data removed]"
    }
   },
   "cell_type": "markdown",
   "metadata": {},
   "source": [
    "<b>Formula:</b>\n",
    "![image.png](attachment:image.png)\n",
    "![image-2.png](attachment:image-2.png)"
   ]
  },
  {
   "attachments": {
    "image-3.png": {
     "image/png": "[encoded data removed]"
    }
   },
   "cell_type": "markdown",
   "metadata": {},
   "source": [
    "#### For pooled two proportions:\n",
    "![image-3.png](attachment:image-3.png)"
   ]
  },
  {
   "cell_type": "markdown",
   "metadata": {},
   "source": [
    "<b>Important:</b>\n",
    "* In pooled two proportions t-test, null hypothesis and alternative hypothesis hypothesize that the p1 and p2 is equal or not. This is difference from the unpooled method."
   ]
  },
  {
   "cell_type": "code",
   "execution_count": 20,
   "metadata": {},
   "outputs": [
    {
     "data": {
      "text/html": [
       "<div>\n",
       "<style scoped>\n",
       "    .dataframe tbody tr th:only-of-type {\n",
       "        vertical-align: middle;\n",
       "    }\n",
       "\n",
       "    .dataframe tbody tr th {\n",
       "        vertical-align: top;\n",
       "    }\n",
       "\n",
       "    .dataframe thead th {\n",
       "        text-align: right;\n",
       "    }\n",
       "</style>\n",
       "<table border=\"1\" class=\"dataframe\">\n",
       "  <thead>\n",
       "    <tr style=\"text-align: right;\">\n",
       "      <th></th>\n",
       "      <th>respondent</th>\n",
       "      <th>main_branch</th>\n",
       "      <th>hobbyist</th>\n",
       "      <th>age</th>\n",
       "      <th>age_1st_code</th>\n",
       "      <th>age_first_code_cut</th>\n",
       "      <th>comp_freq</th>\n",
       "      <th>comp_total</th>\n",
       "      <th>converted_comp</th>\n",
       "      <th>country</th>\n",
       "      <th>...</th>\n",
       "      <th>survey_length</th>\n",
       "      <th>trans</th>\n",
       "      <th>undergrad_major</th>\n",
       "      <th>webframe_desire_next_year</th>\n",
       "      <th>webframe_worked_with</th>\n",
       "      <th>welcome_change</th>\n",
       "      <th>work_week_hrs</th>\n",
       "      <th>years_code</th>\n",
       "      <th>years_code_pro</th>\n",
       "      <th>age_cat</th>\n",
       "    </tr>\n",
       "  </thead>\n",
       "  <tbody>\n",
       "    <tr>\n",
       "      <th>0</th>\n",
       "      <td>36.0</td>\n",
       "      <td>I am not primarily a developer, but I write co...</td>\n",
       "      <td>Yes</td>\n",
       "      <td>34.0</td>\n",
       "      <td>30.0</td>\n",
       "      <td>adult</td>\n",
       "      <td>Yearly</td>\n",
       "      <td>60000.0</td>\n",
       "      <td>77556.0</td>\n",
       "      <td>United Kingdom</td>\n",
       "      <td>...</td>\n",
       "      <td>Appropriate in length</td>\n",
       "      <td>No</td>\n",
       "      <td>Computer science, computer engineering, or sof...</td>\n",
       "      <td>Express;React.js</td>\n",
       "      <td>Express;React.js</td>\n",
       "      <td>Just as welcome now as I felt last year</td>\n",
       "      <td>40.0</td>\n",
       "      <td>4.0</td>\n",
       "      <td>3.0</td>\n",
       "      <td>At least 30</td>\n",
       "    </tr>\n",
       "    <tr>\n",
       "      <th>1</th>\n",
       "      <td>47.0</td>\n",
       "      <td>I am a developer by profession</td>\n",
       "      <td>Yes</td>\n",
       "      <td>53.0</td>\n",
       "      <td>10.0</td>\n",
       "      <td>child</td>\n",
       "      <td>Yearly</td>\n",
       "      <td>58000.0</td>\n",
       "      <td>74970.0</td>\n",
       "      <td>United Kingdom</td>\n",
       "      <td>...</td>\n",
       "      <td>Appropriate in length</td>\n",
       "      <td>No</td>\n",
       "      <td>A natural science (such as biology, chemistry,...</td>\n",
       "      <td>Flask;Spring</td>\n",
       "      <td>Flask;Spring</td>\n",
       "      <td>Just as welcome now as I felt last year</td>\n",
       "      <td>40.0</td>\n",
       "      <td>43.0</td>\n",
       "      <td>28.0</td>\n",
       "      <td>At least 30</td>\n",
       "    </tr>\n",
       "    <tr>\n",
       "      <th>2</th>\n",
       "      <td>69.0</td>\n",
       "      <td>I am a developer by profession</td>\n",
       "      <td>Yes</td>\n",
       "      <td>25.0</td>\n",
       "      <td>12.0</td>\n",
       "      <td>child</td>\n",
       "      <td>Yearly</td>\n",
       "      <td>550000.0</td>\n",
       "      <td>594539.0</td>\n",
       "      <td>France</td>\n",
       "      <td>...</td>\n",
       "      <td>Too short</td>\n",
       "      <td>No</td>\n",
       "      <td>Computer science, computer engineering, or sof...</td>\n",
       "      <td>Django;Flask</td>\n",
       "      <td>Django;Flask</td>\n",
       "      <td>Just as welcome now as I felt last year</td>\n",
       "      <td>40.0</td>\n",
       "      <td>13.0</td>\n",
       "      <td>3.0</td>\n",
       "      <td>Under 30</td>\n",
       "    </tr>\n",
       "  </tbody>\n",
       "</table>\n",
       "<p>3 rows × 63 columns</p>\n",
       "</div>"
      ],
      "text/plain": [
       "   respondent                                        main_branch hobbyist  \\\n",
       "0        36.0  I am not primarily a developer, but I write co...      Yes   \n",
       "1        47.0                     I am a developer by profession      Yes   \n",
       "2        69.0                     I am a developer by profession      Yes   \n",
       "\n",
       "    age  age_1st_code age_first_code_cut comp_freq  comp_total  \\\n",
       "0  34.0          30.0              adult    Yearly     60000.0   \n",
       "1  53.0          10.0              child    Yearly     58000.0   \n",
       "2  25.0          12.0              child    Yearly    550000.0   \n",
       "\n",
       "   converted_comp         country  ...          survey_length trans  \\\n",
       "0         77556.0  United Kingdom  ...  Appropriate in length    No   \n",
       "1         74970.0  United Kingdom  ...  Appropriate in length    No   \n",
       "2        594539.0          France  ...              Too short    No   \n",
       "\n",
       "                                     undergrad_major  \\\n",
       "0  Computer science, computer engineering, or sof...   \n",
       "1  A natural science (such as biology, chemistry,...   \n",
       "2  Computer science, computer engineering, or sof...   \n",
       "\n",
       "  webframe_desire_next_year webframe_worked_with  \\\n",
       "0          Express;React.js     Express;React.js   \n",
       "1              Flask;Spring         Flask;Spring   \n",
       "2              Django;Flask         Django;Flask   \n",
       "\n",
       "                            welcome_change work_week_hrs years_code  \\\n",
       "0  Just as welcome now as I felt last year          40.0        4.0   \n",
       "1  Just as welcome now as I felt last year          40.0       43.0   \n",
       "2  Just as welcome now as I felt last year          40.0       13.0   \n",
       "\n",
       "  years_code_pro      age_cat  \n",
       "0            3.0  At least 30  \n",
       "1           28.0  At least 30  \n",
       "2            3.0     Under 30  \n",
       "\n",
       "[3 rows x 63 columns]"
      ]
     },
     "execution_count": 20,
     "metadata": {},
     "output_type": "execute_result"
    }
   ],
   "source": [
    "path = \"https://assets.datacamp.com/production/repositories/5982/datasets/c59033b93930652f402e30db77c3b8ef713dd701/stack_overflow.feather\"\n",
    "\n",
    "import pandas as pd\n",
    "\n",
    "stack_overflow = pd.read_feather(path)\n",
    "\n",
    "stack_overflow.head(3)"
   ]
  },
  {
   "cell_type": "code",
   "execution_count": 21,
   "metadata": {},
   "outputs": [],
   "source": [
    "# H0: Proportion of hobbyist users under thirty age equals to at least thirty users.\n",
    "# H1: Proportion of hobbyist users under thirty age is different from at least thirty.\n",
    "# ----------------------------------------------------------------------------------"
   ]
  },
  {
   "cell_type": "code",
   "execution_count": 22,
   "metadata": {},
   "outputs": [
    {
     "data": {
      "text/html": [
       "<div>\n",
       "<style scoped>\n",
       "    .dataframe tbody tr th:only-of-type {\n",
       "        vertical-align: middle;\n",
       "    }\n",
       "\n",
       "    .dataframe tbody tr th {\n",
       "        vertical-align: top;\n",
       "    }\n",
       "\n",
       "    .dataframe thead th {\n",
       "        text-align: right;\n",
       "    }\n",
       "</style>\n",
       "<table border=\"1\" class=\"dataframe\">\n",
       "  <thead>\n",
       "    <tr style=\"text-align: right;\">\n",
       "      <th></th>\n",
       "      <th>hobbyist</th>\n",
       "      <th>age</th>\n",
       "      <th>age_first_code_cut</th>\n",
       "      <th>age_cat</th>\n",
       "    </tr>\n",
       "  </thead>\n",
       "  <tbody>\n",
       "    <tr>\n",
       "      <th>0</th>\n",
       "      <td>Yes</td>\n",
       "      <td>34.0</td>\n",
       "      <td>adult</td>\n",
       "      <td>At least 30</td>\n",
       "    </tr>\n",
       "    <tr>\n",
       "      <th>1</th>\n",
       "      <td>Yes</td>\n",
       "      <td>53.0</td>\n",
       "      <td>child</td>\n",
       "      <td>At least 30</td>\n",
       "    </tr>\n",
       "    <tr>\n",
       "      <th>2</th>\n",
       "      <td>Yes</td>\n",
       "      <td>25.0</td>\n",
       "      <td>child</td>\n",
       "      <td>Under 30</td>\n",
       "    </tr>\n",
       "    <tr>\n",
       "      <th>3</th>\n",
       "      <td>Yes</td>\n",
       "      <td>41.0</td>\n",
       "      <td>adult</td>\n",
       "      <td>At least 30</td>\n",
       "    </tr>\n",
       "    <tr>\n",
       "      <th>4</th>\n",
       "      <td>No</td>\n",
       "      <td>28.0</td>\n",
       "      <td>adult</td>\n",
       "      <td>Under 30</td>\n",
       "    </tr>\n",
       "    <tr>\n",
       "      <th>...</th>\n",
       "      <td>...</td>\n",
       "      <td>...</td>\n",
       "      <td>...</td>\n",
       "      <td>...</td>\n",
       "    </tr>\n",
       "    <tr>\n",
       "      <th>2256</th>\n",
       "      <td>Yes</td>\n",
       "      <td>40.0</td>\n",
       "      <td>child</td>\n",
       "      <td>At least 30</td>\n",
       "    </tr>\n",
       "    <tr>\n",
       "      <th>2257</th>\n",
       "      <td>Yes</td>\n",
       "      <td>23.0</td>\n",
       "      <td>child</td>\n",
       "      <td>Under 30</td>\n",
       "    </tr>\n",
       "    <tr>\n",
       "      <th>2258</th>\n",
       "      <td>Yes</td>\n",
       "      <td>27.0</td>\n",
       "      <td>child</td>\n",
       "      <td>Under 30</td>\n",
       "    </tr>\n",
       "    <tr>\n",
       "      <th>2259</th>\n",
       "      <td>Yes</td>\n",
       "      <td>33.0</td>\n",
       "      <td>child</td>\n",
       "      <td>At least 30</td>\n",
       "    </tr>\n",
       "    <tr>\n",
       "      <th>2260</th>\n",
       "      <td>Yes</td>\n",
       "      <td>28.0</td>\n",
       "      <td>child</td>\n",
       "      <td>Under 30</td>\n",
       "    </tr>\n",
       "  </tbody>\n",
       "</table>\n",
       "<p>2261 rows × 4 columns</p>\n",
       "</div>"
      ],
      "text/plain": [
       "     hobbyist   age age_first_code_cut      age_cat\n",
       "0         Yes  34.0              adult  At least 30\n",
       "1         Yes  53.0              child  At least 30\n",
       "2         Yes  25.0              child     Under 30\n",
       "3         Yes  41.0              adult  At least 30\n",
       "4          No  28.0              adult     Under 30\n",
       "...       ...   ...                ...          ...\n",
       "2256      Yes  40.0              child  At least 30\n",
       "2257      Yes  23.0              child     Under 30\n",
       "2258      Yes  27.0              child     Under 30\n",
       "2259      Yes  33.0              child  At least 30\n",
       "2260      Yes  28.0              child     Under 30\n",
       "\n",
       "[2261 rows x 4 columns]"
      ]
     },
     "execution_count": 22,
     "metadata": {},
     "output_type": "execute_result"
    }
   ],
   "source": [
    "stack_overflow[[\"hobbyist\", \"age\", \"age_first_code_cut\", \"age_cat\"]]"
   ]
  },
  {
   "cell_type": "code",
   "execution_count": 23,
   "metadata": {},
   "outputs": [
    {
     "data": {
      "text/plain": [
       "0.8431048720066061"
      ]
     },
     "execution_count": 23,
     "metadata": {},
     "output_type": "execute_result"
    }
   ],
   "source": [
    "# p1\n",
    "p1_under_30 = stack_overflow.groupby(\"age_cat\")[\"hobbyist\"].value_counts(normalize=True)[(\"Under 30\", \"Yes\")]\n",
    "\n",
    "p1_under_30"
   ]
  },
  {
   "cell_type": "code",
   "execution_count": 24,
   "metadata": {},
   "outputs": [
    {
     "data": {
      "text/plain": [
       "0.7733333333333333"
      ]
     },
     "execution_count": 24,
     "metadata": {},
     "output_type": "execute_result"
    }
   ],
   "source": [
    "# p2\n",
    "p2_at_least_30 = stack_overflow.groupby(\"age_cat\")[\"hobbyist\"].value_counts(normalize=True)[(\"At least 30\", \"Yes\")]\n",
    "\n",
    "p2_at_least_30"
   ]
  },
  {
   "cell_type": "code",
   "execution_count": 25,
   "metadata": {},
   "outputs": [
    {
     "data": {
      "text/plain": [
       "1211"
      ]
     },
     "execution_count": 25,
     "metadata": {},
     "output_type": "execute_result"
    }
   ],
   "source": [
    "# n1\n",
    "under_30_group_size = stack_overflow.groupby(\"age_cat\")[\"hobbyist\"].count()[\"Under 30\"]\n",
    "\n",
    "under_30_group_size"
   ]
  },
  {
   "cell_type": "code",
   "execution_count": 26,
   "metadata": {},
   "outputs": [
    {
     "data": {
      "text/plain": [
       "1050"
      ]
     },
     "execution_count": 26,
     "metadata": {},
     "output_type": "execute_result"
    }
   ],
   "source": [
    "# n2\n",
    "at_least_30_group_size = stack_overflow.groupby(\"age_cat\")[\"hobbyist\"].count()[\"At least 30\"]\n",
    "\n",
    "at_least_30_group_size"
   ]
  },
  {
   "cell_type": "code",
   "execution_count": 27,
   "metadata": {},
   "outputs": [
    {
     "data": {
      "text/plain": [
       "0.016519089824430542"
      ]
     },
     "execution_count": 27,
     "metadata": {},
     "output_type": "execute_result"
    }
   ],
   "source": [
    "import numpy as np\n",
    "\n",
    "# calculate standard error (denominator side)\n",
    "\n",
    "# calculate x1 and x2\n",
    "x1 = stack_overflow.groupby(\"hobbyist\")[\"age_cat\"].value_counts()[(\"Yes\", \"Under 30\")]\n",
    "x2 = stack_overflow.groupby(\"hobbyist\")[\"age_cat\"].value_counts()[(\"Yes\", \"At least 30\")]\n",
    "\n",
    "# calculate p_hat.\n",
    "p_hat = (x1 + x2) / (under_30_group_size + at_least_30_group_size)\n",
    "\n",
    "standard_error = np.sqrt(p_hat * (1 - p_hat) * (1/under_30_group_size + 1/at_least_30_group_size))\n",
    "\n",
    "standard_error"
   ]
  },
  {
   "cell_type": "code",
   "execution_count": 28,
   "metadata": {},
   "outputs": [
    {
     "data": {
      "text/plain": [
       "-4.223691463320559"
      ]
     },
     "execution_count": 28,
     "metadata": {},
     "output_type": "execute_result"
    }
   ],
   "source": [
    "# calculate numerator side.\n",
    "numerator = (p2_at_least_30 - p1_under_30)\n",
    "\n",
    "\n",
    "# calculate z_test.\n",
    "z_test = numerator / standard_error\n",
    "\n",
    "z_test"
   ]
  },
  {
   "cell_type": "code",
   "execution_count": 29,
   "metadata": {},
   "outputs": [
    {
     "data": {
      "text/plain": [
       "True"
      ]
     },
     "execution_count": 29,
     "metadata": {},
     "output_type": "execute_result"
    }
   ],
   "source": [
    "# calculate p-value(two tailed z-test)\n",
    "from scipy.stats import norm\n",
    "\n",
    "# two tailed test.(right tail + left tail is subtracted by interval range.)\n",
    "p_value = 2 * (1 - norm.cdf(abs(z_test), loc=0, scale=1))\n",
    "\n",
    "p_value < 0.05"
   ]
  },
  {
   "cell_type": "code",
   "execution_count": 30,
   "metadata": {},
   "outputs": [
    {
     "data": {
      "text/plain": [
       "(-4.223691463320559, 2.403330142685068e-05)"
      ]
     },
     "execution_count": 30,
     "metadata": {},
     "output_type": "execute_result"
    }
   ],
   "source": [
    "# statsmodels.stats.proportion.test_proportions_2indep\n",
    "# Not correct in the below code. Use .test_proportions_2indep() test to accurate result.\n",
    "\n",
    "from statsmodels.stats.proportion import proportions_ztest\n",
    "\n",
    "s1 = stack_overflow.groupby(\"age_cat\")[\"hobbyist\"].value_counts()[(\"At least 30\", \"Yes\")]\n",
    "s2 = stack_overflow.groupby(\"age_cat\")[\"hobbyist\"].value_counts()[(\"Under 30\", \"Yes\")]\n",
    "count = np.array([s1, s2])\n",
    "\n",
    "\n",
    "n1 = stack_overflow.groupby(\"age_cat\")[\"hobbyist\"].value_counts()[\"At least 30\"].sum()\n",
    "n2 = stack_overflow.groupby(\"age_cat\")[\"hobbyist\"].value_counts()[\"Under 30\"].sum()\n",
    "nobs = np.array([n1, n2])\n",
    "\n",
    "\n",
    "z_test, p_value = proportions_ztest(count = count, nobs = nobs, alternative = \"two-sided\")\n",
    "\n",
    "z_test, p_value"
   ]
  },
  {
   "cell_type": "markdown",
   "metadata": {},
   "source": [
    "# Two proportions z-test.(Unpooled)"
   ]
  },
  {
   "cell_type": "markdown",
   "metadata": {},
   "source": [
    "<b>Formula:</b>"
   ]
  },
  {
   "attachments": {
    "image.png": {
     "image/png": "[encoded data removed]"
    }
   },
   "cell_type": "markdown",
   "metadata": {},
   "source": [
    "![image.png](attachment:image.png)"
   ]
  },
  {
   "cell_type": "markdown",
   "metadata": {},
   "source": [
    "* Two sample Z test of proportions is the test to determine whether the two populations differ significantly on specific characteristics. \n",
    "* In other words, compare the proportion of two different populations that have some single characteristics.\n",
    "***\n",
    "<b>Assumptions:</b>\n",
    "* Both populations follow a binomial distribution.\n",
    "* Samples are independent of each other.\n",
    "* Test results are accurate when <b>n x p</b> and <b>n x (1 - p)</b> are greater than 5"
   ]
  },
  {
   "cell_type": "markdown",
   "metadata": {},
   "source": [
    "<b>Important:</b>\n",
    "* In unpooled method, we hypothesize that there is a specific number of percent difference or not.\n",
    "    * H0: p1 - p2 = d\n",
    "    * H1: p1 - p2 != d\n",
    "***\n",
    "The difference between pooled and unpooled method is the difference of hypothesis assumptions(null and alternative hypothesis)"
   ]
  },
  {
   "cell_type": "code",
   "execution_count": 31,
   "metadata": {},
   "outputs": [],
   "source": [
    "# H0: Proportion of hobbyist users under thirty age equals to at least thirty users.\n",
    "# H1: Proportion of hobbyist users under thirty age is different from at least thirty.\n",
    "# ----------------------------------------------------------------------------------\n",
    "\n",
    "import numpy as np\n",
    "from scipy.stats import norm"
   ]
  },
  {
   "cell_type": "code",
   "execution_count": 32,
   "metadata": {},
   "outputs": [
    {
     "data": {
      "text/plain": [
       "-4.1984371024335285"
      ]
     },
     "execution_count": 32,
     "metadata": {},
     "output_type": "execute_result"
    }
   ],
   "source": [
    "p1 = stack_overflow.groupby(\"age_cat\")[\"hobbyist\"].value_counts(normalize = True)[(\"At least 30\", \"Yes\")]\n",
    "p2 = stack_overflow.groupby(\"age_cat\")[\"hobbyist\"].value_counts(normalize = True)[(\"Under 30\", \"Yes\")]\n",
    "\n",
    "n1 = stack_overflow.groupby(\"age_cat\")[\"hobbyist\"].value_counts()[\"At least 30\"].sum()\n",
    "n2 = stack_overflow.groupby(\"age_cat\")[\"hobbyist\"].value_counts()[\"Under 30\"].sum()\n",
    "\n",
    "# numerator_side \n",
    "numerator = (p1 - p2) - 0\n",
    "\n",
    "# standard error\n",
    "s = (p1 * (1 - p1) / n1) + (p2 * (1 - p2) / n2)\n",
    "\n",
    "standard_error = np.sqrt(s)\n",
    "\n",
    "z_test = numerator / standard_error\n",
    "\n",
    "z_test"
   ]
  },
  {
   "cell_type": "code",
   "execution_count": 33,
   "metadata": {},
   "outputs": [
    {
     "data": {
      "text/plain": [
       "2.6876347940296696e-05"
      ]
     },
     "execution_count": 33,
     "metadata": {},
     "output_type": "execute_result"
    }
   ],
   "source": [
    "# calculate p-value\n",
    "\n",
    "p_value = 2 * (1 - norm.cdf(abs(z_test), loc=0, scale=1))\n",
    "\n",
    "p_value"
   ]
  },
  {
   "cell_type": "markdown",
   "metadata": {},
   "source": [
    "# Chi-squared goodness of fit test:"
   ]
  },
  {
   "cell_type": "markdown",
   "metadata": {},
   "source": [
    "<b>Chi-square test:</b>\n",
    "* For testing the population variance against a specified value. ( <b>One variance test</b> )\n",
    "* Testing goodness of fit of some probability distribution.\n",
    "* Testing for independence of two attributes. ( Contingency tables. )"
   ]
  },
  {
   "cell_type": "markdown",
   "metadata": {},
   "source": [
    "<b>Goodness of fit test:</b>\n",
    "* To test if the sample is coming from a population with specific distribution.\n",
    "* Other goodness of fit tests are:\n",
    "    * Anderson-Darling\n",
    "    * Kolmogorov-Smirnov."
   ]
  },
  {
   "cell_type": "markdown",
   "metadata": {},
   "source": [
    "For example, let's say if I am  flipping a coin the expected distribution there is that 50 percent times I should get head, 50 percent times I should get tail. However in the experiment of flipping 100 coin may be a little bit different result. So we can check this with chi-square test there is a hypothesized( specified ) distribution or not."
   ]
  },
  {
   "cell_type": "markdown",
   "metadata": {},
   "source": [
    "<b>Formula:</b>"
   ]
  },
  {
   "cell_type": "markdown",
   "metadata": {},
   "source": [
    "* A chi-square($X^2$) goodness of fit test is a type of Pearson's chi-square test. You can use it to test whether the observed distribution of a categorical variable differs from your expectations.\n",
    "* It is used to determine whether or not a categorical variable follows a hypothesized distribution.\n",
    "* Using this test, you can test whether the goodness of fit is <b>good enough</b> to conclude that the population follows the distribution."
   ]
  },
  {
   "cell_type": "markdown",
   "metadata": {},
   "source": [
    "* $H_0:$ A variable follows a hypothesized distribution.\n",
    "* $H_1:$ A variable does not follow a hypothesized distribution."
   ]
  },
  {
   "cell_type": "markdown",
   "metadata": {},
   "source": [
    "The p-value corresponds to the test statistics(chi-square) with n-1 degrees of freedom( where n is the number of categories ) is less than your chosen significance level(alpha) then you can reject the null hypothesis."
   ]
  },
  {
   "attachments": {
    "image.png": {
     "image/png": "[encoded data removed]"
    }
   },
   "cell_type": "markdown",
   "metadata": {},
   "source": [
    "#### Example :\n",
    "***\n",
    "![image.png](attachment:image.png)"
   ]
  },
  {
   "cell_type": "code",
   "execution_count": 34,
   "metadata": {},
   "outputs": [
    {
     "name": "stdout",
     "output_type": "stream",
     "text": [
      "chi-square : 4.359999999999999\n",
      "p-value : 0.3594720674366307\n",
      "Fail to reject.\n"
     ]
    }
   ],
   "source": [
    "# Step 1 : Create the data\n",
    "\n",
    "import numpy as np\n",
    "\n",
    "expected = np.array([50, 50, 50, 50, 50]) # claims that equal number of customers come into shop each weekday.(hypothesis)\n",
    "observed = np.array([50, 60, 40, 47, 53]) # observed numbers of customers come into shop each weekday.\n",
    "\n",
    "# Step 2: Perform the chi-square goodness of fit test.\n",
    "\n",
    "# define alpha.\n",
    "alpha = 0.05\n",
    "\n",
    "from scipy.stats import chisquare\n",
    "\n",
    "chi_square, p_value = chisquare(f_obs=observed, f_exp=expected, ddof=0)\n",
    "\n",
    "print(\"chi-square : {}\".format(chi_square)); print(\"p-value : {}\".format(p_value))\n",
    "if p_value < alpha:\n",
    "    print(\"Null hypothesis was rejected.\")\n",
    "else:\n",
    "    print(\"Fail to reject.\")"
   ]
  },
  {
   "cell_type": "code",
   "execution_count": 35,
   "metadata": {},
   "outputs": [
    {
     "data": {
      "text/plain": [
       "0.35947206743663074"
      ]
     },
     "execution_count": 35,
     "metadata": {},
     "output_type": "execute_result"
    }
   ],
   "source": [
    "difference = np.sum(np.square(observed - expected) / expected)\n",
    "\n",
    "from scipy.stats import chi2\n",
    "\n",
    "# also you can use chi2.sf() is that the inverse of cumulative distribution function.\n",
    "# it is stands for survival function.\n",
    "1 - chi2.cdf(difference, loc=0, scale=1, df=4) # or chi2.sf(<same arguments>)"
   ]
  },
  {
   "cell_type": "markdown",
   "metadata": {},
   "source": [
    "#### Example from data:"
   ]
  },
  {
   "attachments": {
    "image.png": {
     "image/png": "[encoded data removed]"
    }
   },
   "cell_type": "markdown",
   "metadata": {},
   "source": [
    "![image.png](attachment:image.png)"
   ]
  },
  {
   "cell_type": "code",
   "execution_count": 36,
   "metadata": {},
   "outputs": [
    {
     "data": {
      "text/html": [
       "<div>\n",
       "<style scoped>\n",
       "    .dataframe tbody tr th:only-of-type {\n",
       "        vertical-align: middle;\n",
       "    }\n",
       "\n",
       "    .dataframe tbody tr th {\n",
       "        vertical-align: top;\n",
       "    }\n",
       "\n",
       "    .dataframe thead th {\n",
       "        text-align: right;\n",
       "    }\n",
       "</style>\n",
       "<table border=\"1\" class=\"dataframe\">\n",
       "  <thead>\n",
       "    <tr style=\"text-align: right;\">\n",
       "      <th></th>\n",
       "      <th>respondent</th>\n",
       "      <th>main_branch</th>\n",
       "      <th>hobbyist</th>\n",
       "      <th>age</th>\n",
       "      <th>age_1st_code</th>\n",
       "      <th>age_first_code_cut</th>\n",
       "      <th>comp_freq</th>\n",
       "      <th>comp_total</th>\n",
       "      <th>converted_comp</th>\n",
       "      <th>country</th>\n",
       "      <th>...</th>\n",
       "      <th>survey_length</th>\n",
       "      <th>trans</th>\n",
       "      <th>undergrad_major</th>\n",
       "      <th>webframe_desire_next_year</th>\n",
       "      <th>webframe_worked_with</th>\n",
       "      <th>welcome_change</th>\n",
       "      <th>work_week_hrs</th>\n",
       "      <th>years_code</th>\n",
       "      <th>years_code_pro</th>\n",
       "      <th>age_cat</th>\n",
       "    </tr>\n",
       "  </thead>\n",
       "  <tbody>\n",
       "    <tr>\n",
       "      <th>0</th>\n",
       "      <td>36.0</td>\n",
       "      <td>I am not primarily a developer, but I write co...</td>\n",
       "      <td>Yes</td>\n",
       "      <td>34.0</td>\n",
       "      <td>30.0</td>\n",
       "      <td>adult</td>\n",
       "      <td>Yearly</td>\n",
       "      <td>60000.0</td>\n",
       "      <td>77556.0</td>\n",
       "      <td>United Kingdom</td>\n",
       "      <td>...</td>\n",
       "      <td>Appropriate in length</td>\n",
       "      <td>No</td>\n",
       "      <td>Computer science, computer engineering, or sof...</td>\n",
       "      <td>Express;React.js</td>\n",
       "      <td>Express;React.js</td>\n",
       "      <td>Just as welcome now as I felt last year</td>\n",
       "      <td>40.0</td>\n",
       "      <td>4.0</td>\n",
       "      <td>3.0</td>\n",
       "      <td>At least 30</td>\n",
       "    </tr>\n",
       "    <tr>\n",
       "      <th>1</th>\n",
       "      <td>47.0</td>\n",
       "      <td>I am a developer by profession</td>\n",
       "      <td>Yes</td>\n",
       "      <td>53.0</td>\n",
       "      <td>10.0</td>\n",
       "      <td>child</td>\n",
       "      <td>Yearly</td>\n",
       "      <td>58000.0</td>\n",
       "      <td>74970.0</td>\n",
       "      <td>United Kingdom</td>\n",
       "      <td>...</td>\n",
       "      <td>Appropriate in length</td>\n",
       "      <td>No</td>\n",
       "      <td>A natural science (such as biology, chemistry,...</td>\n",
       "      <td>Flask;Spring</td>\n",
       "      <td>Flask;Spring</td>\n",
       "      <td>Just as welcome now as I felt last year</td>\n",
       "      <td>40.0</td>\n",
       "      <td>43.0</td>\n",
       "      <td>28.0</td>\n",
       "      <td>At least 30</td>\n",
       "    </tr>\n",
       "    <tr>\n",
       "      <th>2</th>\n",
       "      <td>69.0</td>\n",
       "      <td>I am a developer by profession</td>\n",
       "      <td>Yes</td>\n",
       "      <td>25.0</td>\n",
       "      <td>12.0</td>\n",
       "      <td>child</td>\n",
       "      <td>Yearly</td>\n",
       "      <td>550000.0</td>\n",
       "      <td>594539.0</td>\n",
       "      <td>France</td>\n",
       "      <td>...</td>\n",
       "      <td>Too short</td>\n",
       "      <td>No</td>\n",
       "      <td>Computer science, computer engineering, or sof...</td>\n",
       "      <td>Django;Flask</td>\n",
       "      <td>Django;Flask</td>\n",
       "      <td>Just as welcome now as I felt last year</td>\n",
       "      <td>40.0</td>\n",
       "      <td>13.0</td>\n",
       "      <td>3.0</td>\n",
       "      <td>Under 30</td>\n",
       "    </tr>\n",
       "  </tbody>\n",
       "</table>\n",
       "<p>3 rows × 63 columns</p>\n",
       "</div>"
      ],
      "text/plain": [
       "   respondent                                        main_branch hobbyist  \\\n",
       "0        36.0  I am not primarily a developer, but I write co...      Yes   \n",
       "1        47.0                     I am a developer by profession      Yes   \n",
       "2        69.0                     I am a developer by profession      Yes   \n",
       "\n",
       "    age  age_1st_code age_first_code_cut comp_freq  comp_total  \\\n",
       "0  34.0          30.0              adult    Yearly     60000.0   \n",
       "1  53.0          10.0              child    Yearly     58000.0   \n",
       "2  25.0          12.0              child    Yearly    550000.0   \n",
       "\n",
       "   converted_comp         country  ...          survey_length trans  \\\n",
       "0         77556.0  United Kingdom  ...  Appropriate in length    No   \n",
       "1         74970.0  United Kingdom  ...  Appropriate in length    No   \n",
       "2        594539.0          France  ...              Too short    No   \n",
       "\n",
       "                                     undergrad_major  \\\n",
       "0  Computer science, computer engineering, or sof...   \n",
       "1  A natural science (such as biology, chemistry,...   \n",
       "2  Computer science, computer engineering, or sof...   \n",
       "\n",
       "  webframe_desire_next_year webframe_worked_with  \\\n",
       "0          Express;React.js     Express;React.js   \n",
       "1              Flask;Spring         Flask;Spring   \n",
       "2              Django;Flask         Django;Flask   \n",
       "\n",
       "                            welcome_change work_week_hrs years_code  \\\n",
       "0  Just as welcome now as I felt last year          40.0        4.0   \n",
       "1  Just as welcome now as I felt last year          40.0       43.0   \n",
       "2  Just as welcome now as I felt last year          40.0       13.0   \n",
       "\n",
       "  years_code_pro      age_cat  \n",
       "0            3.0  At least 30  \n",
       "1           28.0  At least 30  \n",
       "2            3.0     Under 30  \n",
       "\n",
       "[3 rows x 63 columns]"
      ]
     },
     "execution_count": 36,
     "metadata": {},
     "output_type": "execute_result"
    }
   ],
   "source": [
    "path = \"https://assets.datacamp.com/production/repositories/5982/datasets/c59033b93930652f402e30db77c3b8ef713dd701/stack_overflow.feather\"\n",
    "\n",
    "import pandas as pd\n",
    "\n",
    "stack_overflow = pd.read_feather(path)\n",
    "\n",
    "stack_overflow.head(3)"
   ]
  },
  {
   "cell_type": "code",
   "execution_count": 37,
   "metadata": {},
   "outputs": [
    {
     "data": {
      "text/plain": [
       "0    Hello, old friend\n",
       "1    Hello, old friend\n",
       "2    Hello, old friend\n",
       "3               Amused\n",
       "4    Hello, old friend\n",
       "5    Hello, old friend\n",
       "6    Hello, old friend\n",
       "7    Hello, old friend\n",
       "8    Hello, old friend\n",
       "9              Annoyed\n",
       "Name: purple_link, dtype: object"
      ]
     },
     "execution_count": 37,
     "metadata": {},
     "output_type": "execute_result"
    }
   ],
   "source": [
    "stack_overflow[\"purple_link\"].head(10)"
   ]
  },
  {
   "cell_type": "code",
   "execution_count": 38,
   "metadata": {},
   "outputs": [
    {
     "data": {
      "text/html": [
       "<div>\n",
       "<style scoped>\n",
       "    .dataframe tbody tr th:only-of-type {\n",
       "        vertical-align: middle;\n",
       "    }\n",
       "\n",
       "    .dataframe tbody tr th {\n",
       "        vertical-align: top;\n",
       "    }\n",
       "\n",
       "    .dataframe thead th {\n",
       "        text-align: right;\n",
       "    }\n",
       "</style>\n",
       "<table border=\"1\" class=\"dataframe\">\n",
       "  <thead>\n",
       "    <tr style=\"text-align: right;\">\n",
       "      <th></th>\n",
       "      <th>purple_link</th>\n",
       "      <th>n</th>\n",
       "    </tr>\n",
       "  </thead>\n",
       "  <tbody>\n",
       "    <tr>\n",
       "      <th>0</th>\n",
       "      <td>Hello, old friend</td>\n",
       "      <td>1225</td>\n",
       "    </tr>\n",
       "    <tr>\n",
       "      <th>1</th>\n",
       "      <td>Indifferent</td>\n",
       "      <td>405</td>\n",
       "    </tr>\n",
       "    <tr>\n",
       "      <th>2</th>\n",
       "      <td>Amused</td>\n",
       "      <td>368</td>\n",
       "    </tr>\n",
       "    <tr>\n",
       "      <th>3</th>\n",
       "      <td>Annoyed</td>\n",
       "      <td>263</td>\n",
       "    </tr>\n",
       "  </tbody>\n",
       "</table>\n",
       "</div>"
      ],
      "text/plain": [
       "         purple_link     n\n",
       "0  Hello, old friend  1225\n",
       "1        Indifferent   405\n",
       "2             Amused   368\n",
       "3            Annoyed   263"
      ]
     },
     "execution_count": 38,
     "metadata": {},
     "output_type": "execute_result"
    }
   ],
   "source": [
    "# create observed values.\n",
    "# -----------------------\n",
    "\n",
    "purple_link_counts = stack_overflow[\"purple_link\"].value_counts().rename_axis(\"purple_link\").reset_index(name=\"n\")\n",
    "purple_link_counts"
   ]
  },
  {
   "cell_type": "code",
   "execution_count": 39,
   "metadata": {},
   "outputs": [
    {
     "data": {
      "text/html": [
       "<div>\n",
       "<style scoped>\n",
       "    .dataframe tbody tr th:only-of-type {\n",
       "        vertical-align: middle;\n",
       "    }\n",
       "\n",
       "    .dataframe tbody tr th {\n",
       "        vertical-align: top;\n",
       "    }\n",
       "\n",
       "    .dataframe thead th {\n",
       "        text-align: right;\n",
       "    }\n",
       "</style>\n",
       "<table border=\"1\" class=\"dataframe\">\n",
       "  <thead>\n",
       "    <tr style=\"text-align: right;\">\n",
       "      <th></th>\n",
       "      <th>purple_link</th>\n",
       "      <th>proportion</th>\n",
       "      <th>n</th>\n",
       "    </tr>\n",
       "  </thead>\n",
       "  <tbody>\n",
       "    <tr>\n",
       "      <th>0</th>\n",
       "      <td>Hello, old friend</td>\n",
       "      <td>0.500000</td>\n",
       "      <td>1130.500000</td>\n",
       "    </tr>\n",
       "    <tr>\n",
       "      <th>1</th>\n",
       "      <td>Indifferent</td>\n",
       "      <td>0.166667</td>\n",
       "      <td>376.833333</td>\n",
       "    </tr>\n",
       "    <tr>\n",
       "      <th>2</th>\n",
       "      <td>Amused</td>\n",
       "      <td>0.166667</td>\n",
       "      <td>376.833333</td>\n",
       "    </tr>\n",
       "    <tr>\n",
       "      <th>3</th>\n",
       "      <td>Annoyed</td>\n",
       "      <td>0.166667</td>\n",
       "      <td>376.833333</td>\n",
       "    </tr>\n",
       "  </tbody>\n",
       "</table>\n",
       "</div>"
      ],
      "text/plain": [
       "         purple_link  proportion            n\n",
       "0  Hello, old friend    0.500000  1130.500000\n",
       "1        Indifferent    0.166667   376.833333\n",
       "2             Amused    0.166667   376.833333\n",
       "3            Annoyed    0.166667   376.833333"
      ]
     },
     "execution_count": 39,
     "metadata": {},
     "output_type": "execute_result"
    }
   ],
   "source": [
    "# create expected values.\n",
    "# -----------------------\n",
    "\n",
    "hypothesized = pd.DataFrame({\"purple_link\": [\"Hello, old friend\", \"Indifferent\", \"Amused\", \"Annoyed\"],\n",
    "              \"proportion\": [1/2, 1/6, 1/6, 1/6]})\n",
    "\n",
    "hypothesized[\"n\"] = hypothesized[\"proportion\"] * len(stack_overflow)\n",
    "\n",
    "hypothesized"
   ]
  },
  {
   "cell_type": "code",
   "execution_count": 40,
   "metadata": {},
   "outputs": [
    {
     "data": {
      "image/png": "[encoded data removed]",
      "text/plain": [
       "<Figure size 432x288 with 1 Axes>"
      ]
     },
     "metadata": {
      "needs_background": "light"
     },
     "output_type": "display_data"
    }
   ],
   "source": [
    "# create visualiztion to show expected and observed values in graph.\n",
    "\n",
    "import seaborn as sns\n",
    "import matplotlib.pyplot as plt\n",
    "\n",
    "sns.barplot(data = purple_link_counts, x = \"purple_link\", y = \"n\")\n",
    "sns.scatterplot(data = hypothesized, x = \"purple_link\", y = \"n\", color = \"red\")\n",
    "plt.show()"
   ]
  },
  {
   "cell_type": "code",
   "execution_count": 41,
   "metadata": {},
   "outputs": [
    {
     "name": "stdout",
     "output_type": "stream",
     "text": [
      "1.1261810373142112e-09\n",
      "Rejected null hypothesis\n",
      "The sample does not match with hypothesis distribution\n"
     ]
    }
   ],
   "source": [
    "# define alpha\n",
    "significance_level = 0.05\n",
    "\n",
    "# find chi-square test.\n",
    "\n",
    "chi_square = np.sum(np.square(purple_link_counts[\"n\"] - hypothesized[\"n\"]) / hypothesized[\"n\"])\n",
    "\n",
    "# calculate p-value\n",
    "\n",
    "from scipy.stats import chi2\n",
    "\n",
    "p_value = 1 - chi2.cdf(chi_square, loc=0, scale = 1, df=len(purple_link_counts)-1)\n",
    "\n",
    "def check_hypothesis(p_value, alpha):\n",
    "    if p_value < alpha:\n",
    "        print(p_value)\n",
    "        print(\"Rejected null hypothesis\")\n",
    "        print(\"The sample does not match with hypothesis distribution\")\n",
    "    else:\n",
    "        print(p_value)\n",
    "        print(\"Fail to reject null hypothesis\")\n",
    "        print(\"The sample matches with hypothesized distribution\")\n",
    "        \n",
    "check_hypothesis(p_value, significance_level)"
   ]
  },
  {
   "cell_type": "markdown",
   "metadata": {},
   "source": [
    "# chi-square test for independence"
   ]
  },
  {
   "cell_type": "markdown",
   "metadata": {},
   "source": [
    "* The chi-square test of independence is a statistical hypothesis test used to determine whether two categorical or nominal variables are likely to be related or not.\n",
    "* You can use the test when you have counts of values for two categorical variables.\n",
    "* We have an idea that two variables are not related. The test gives us a way to decide if our idea is plausible or not.\n",
    "* It is a non-parametric hypothesis test. Non-parametric tests don't make any assumptions about the data, and are useful when one or more of the common statistical assumptions are violated.(ihlal etmek). However the inferences they make are not as strong as with parametric tests.\n",
    "***\n",
    "<b>Assumptions:</b>\n",
    "* Both variables are categorical.\n",
    "* Observations are independent.\n",
    "* The count of each category is greater than 5.\n",
    "* Each count in the category is mutually exclusive(birbirini dışlayan)\n",
    "* Data is chosen randonly."
   ]
  },
  {
   "cell_type": "markdown",
   "metadata": {},
   "source": [
    "As a summary, it is for testing of independence of two attributes ( Contingency Tables )"
   ]
  },
  {
   "cell_type": "markdown",
   "metadata": {},
   "source": [
    "Contingency table helps us in finding out the relationship between two discrete variables."
   ]
  },
  {
   "cell_type": "markdown",
   "metadata": {},
   "source": [
    "<b>Formula:</b>"
   ]
  },
  {
   "attachments": {
    "image.png": {
     "image/png": "[encoded data removed]"
    }
   },
   "cell_type": "markdown",
   "metadata": {},
   "source": [
    "![image.png](attachment:image.png)"
   ]
  },
  {
   "cell_type": "markdown",
   "metadata": {},
   "source": [
    "* <b>v</b> is the degrees of freedom.\n",
    "* <b>O</b> is the observed sample values.\n",
    "* <b>E</b> is the computed expected values.\n",
    "* <b>n</b> is the number of categories in the variable."
   ]
  },
  {
   "attachments": {
    "image.png": {
     "image/png": "[encoded data removed]"
    }
   },
   "cell_type": "markdown",
   "metadata": {},
   "source": [
    "![image.png](attachment:image.png)"
   ]
  },
  {
   "cell_type": "markdown",
   "metadata": {},
   "source": [
    "* <b>r</b> is the number of rows in the contingency table.\n",
    "* <b>c</b> is the number of columns in the contingency table."
   ]
  },
  {
   "attachments": {
    "image.png": {
     "image/png": "[encoded data removed]"
    }
   },
   "cell_type": "markdown",
   "metadata": {},
   "source": [
    "<b>Example of contingency table:</b>\n",
    "![image.png](attachment:image.png)"
   ]
  },
  {
   "cell_type": "markdown",
   "metadata": {},
   "source": [
    "* $H0$: there is no relationship between the row and column variables.(independent variables)\n",
    "* $H1$: there is a relationship. Alternate hypothesis does not tell what type of relationship exists. ( Not indepedent variables )"
   ]
  },
  {
   "cell_type": "markdown",
   "metadata": {},
   "source": [
    "<b>Example with python code:</b>"
   ]
  },
  {
   "cell_type": "code",
   "execution_count": 1,
   "metadata": {},
   "outputs": [
    {
     "data": {
      "text/html": [
       "<div>\n",
       "<style scoped>\n",
       "    .dataframe tbody tr th:only-of-type {\n",
       "        vertical-align: middle;\n",
       "    }\n",
       "\n",
       "    .dataframe tbody tr th {\n",
       "        vertical-align: top;\n",
       "    }\n",
       "\n",
       "    .dataframe thead th {\n",
       "        text-align: right;\n",
       "    }\n",
       "</style>\n",
       "<table border=\"1\" class=\"dataframe\">\n",
       "  <thead>\n",
       "    <tr style=\"text-align: right;\">\n",
       "      <th></th>\n",
       "      <th>respondent</th>\n",
       "      <th>main_branch</th>\n",
       "      <th>hobbyist</th>\n",
       "      <th>age</th>\n",
       "      <th>age_1st_code</th>\n",
       "      <th>age_first_code_cut</th>\n",
       "      <th>comp_freq</th>\n",
       "      <th>comp_total</th>\n",
       "      <th>converted_comp</th>\n",
       "      <th>country</th>\n",
       "      <th>...</th>\n",
       "      <th>survey_length</th>\n",
       "      <th>trans</th>\n",
       "      <th>undergrad_major</th>\n",
       "      <th>webframe_desire_next_year</th>\n",
       "      <th>webframe_worked_with</th>\n",
       "      <th>welcome_change</th>\n",
       "      <th>work_week_hrs</th>\n",
       "      <th>years_code</th>\n",
       "      <th>years_code_pro</th>\n",
       "      <th>age_cat</th>\n",
       "    </tr>\n",
       "  </thead>\n",
       "  <tbody>\n",
       "    <tr>\n",
       "      <th>0</th>\n",
       "      <td>36.0</td>\n",
       "      <td>I am not primarily a developer, but I write co...</td>\n",
       "      <td>Yes</td>\n",
       "      <td>34.0</td>\n",
       "      <td>30.0</td>\n",
       "      <td>adult</td>\n",
       "      <td>Yearly</td>\n",
       "      <td>60000.0</td>\n",
       "      <td>77556.0</td>\n",
       "      <td>United Kingdom</td>\n",
       "      <td>...</td>\n",
       "      <td>Appropriate in length</td>\n",
       "      <td>No</td>\n",
       "      <td>Computer science, computer engineering, or sof...</td>\n",
       "      <td>Express;React.js</td>\n",
       "      <td>Express;React.js</td>\n",
       "      <td>Just as welcome now as I felt last year</td>\n",
       "      <td>40.0</td>\n",
       "      <td>4.0</td>\n",
       "      <td>3.0</td>\n",
       "      <td>At least 30</td>\n",
       "    </tr>\n",
       "    <tr>\n",
       "      <th>1</th>\n",
       "      <td>47.0</td>\n",
       "      <td>I am a developer by profession</td>\n",
       "      <td>Yes</td>\n",
       "      <td>53.0</td>\n",
       "      <td>10.0</td>\n",
       "      <td>child</td>\n",
       "      <td>Yearly</td>\n",
       "      <td>58000.0</td>\n",
       "      <td>74970.0</td>\n",
       "      <td>United Kingdom</td>\n",
       "      <td>...</td>\n",
       "      <td>Appropriate in length</td>\n",
       "      <td>No</td>\n",
       "      <td>A natural science (such as biology, chemistry,...</td>\n",
       "      <td>Flask;Spring</td>\n",
       "      <td>Flask;Spring</td>\n",
       "      <td>Just as welcome now as I felt last year</td>\n",
       "      <td>40.0</td>\n",
       "      <td>43.0</td>\n",
       "      <td>28.0</td>\n",
       "      <td>At least 30</td>\n",
       "    </tr>\n",
       "    <tr>\n",
       "      <th>2</th>\n",
       "      <td>69.0</td>\n",
       "      <td>I am a developer by profession</td>\n",
       "      <td>Yes</td>\n",
       "      <td>25.0</td>\n",
       "      <td>12.0</td>\n",
       "      <td>child</td>\n",
       "      <td>Yearly</td>\n",
       "      <td>550000.0</td>\n",
       "      <td>594539.0</td>\n",
       "      <td>France</td>\n",
       "      <td>...</td>\n",
       "      <td>Too short</td>\n",
       "      <td>No</td>\n",
       "      <td>Computer science, computer engineering, or sof...</td>\n",
       "      <td>Django;Flask</td>\n",
       "      <td>Django;Flask</td>\n",
       "      <td>Just as welcome now as I felt last year</td>\n",
       "      <td>40.0</td>\n",
       "      <td>13.0</td>\n",
       "      <td>3.0</td>\n",
       "      <td>Under 30</td>\n",
       "    </tr>\n",
       "  </tbody>\n",
       "</table>\n",
       "<p>3 rows × 63 columns</p>\n",
       "</div>"
      ],
      "text/plain": [
       "   respondent                                        main_branch hobbyist  \\\n",
       "0        36.0  I am not primarily a developer, but I write co...      Yes   \n",
       "1        47.0                     I am a developer by profession      Yes   \n",
       "2        69.0                     I am a developer by profession      Yes   \n",
       "\n",
       "    age  age_1st_code age_first_code_cut comp_freq  comp_total  \\\n",
       "0  34.0          30.0              adult    Yearly     60000.0   \n",
       "1  53.0          10.0              child    Yearly     58000.0   \n",
       "2  25.0          12.0              child    Yearly    550000.0   \n",
       "\n",
       "   converted_comp         country  ...          survey_length trans  \\\n",
       "0         77556.0  United Kingdom  ...  Appropriate in length    No   \n",
       "1         74970.0  United Kingdom  ...  Appropriate in length    No   \n",
       "2        594539.0          France  ...              Too short    No   \n",
       "\n",
       "                                     undergrad_major  \\\n",
       "0  Computer science, computer engineering, or sof...   \n",
       "1  A natural science (such as biology, chemistry,...   \n",
       "2  Computer science, computer engineering, or sof...   \n",
       "\n",
       "  webframe_desire_next_year webframe_worked_with  \\\n",
       "0          Express;React.js     Express;React.js   \n",
       "1              Flask;Spring         Flask;Spring   \n",
       "2              Django;Flask         Django;Flask   \n",
       "\n",
       "                            welcome_change work_week_hrs years_code  \\\n",
       "0  Just as welcome now as I felt last year          40.0        4.0   \n",
       "1  Just as welcome now as I felt last year          40.0       43.0   \n",
       "2  Just as welcome now as I felt last year          40.0       13.0   \n",
       "\n",
       "  years_code_pro      age_cat  \n",
       "0            3.0  At least 30  \n",
       "1           28.0  At least 30  \n",
       "2            3.0     Under 30  \n",
       "\n",
       "[3 rows x 63 columns]"
      ]
     },
     "execution_count": 1,
     "metadata": {},
     "output_type": "execute_result"
    }
   ],
   "source": [
    "path = \"https://assets.datacamp.com/production/repositories/5982/datasets/c59033b93930652f402e30db77c3b8ef713dd701/stack_overflow.feather\"\n",
    "\n",
    "import pandas as pd\n",
    "\n",
    "stack_overflow = pd.read_feather(path)\n",
    "\n",
    "stack_overflow.head(3)\n",
    "\n",
    "# You can use contingency table and pivot table."
   ]
  },
  {
   "cell_type": "code",
   "execution_count": 14,
   "metadata": {},
   "outputs": [
    {
     "data": {
      "image/png": "[encoded data removed]",
      "text/plain": [
       "<Figure size 432x288 with 1 Axes>"
      ]
     },
     "metadata": {
      "needs_background": "light"
     },
     "output_type": "display_data"
    },
    {
     "data": {
      "image/png": "[encoded data removed]",
      "text/plain": [
       "<Figure size 432x288 with 1 Axes>"
      ]
     },
     "execution_count": 14,
     "metadata": {},
     "output_type": "execute_result"
    },
    {
     "data": {
      "image/png": "[encoded data removed]",
      "text/plain": [
       "<Figure size 432x288 with 1 Axes>"
      ]
     },
     "metadata": {
      "needs_background": "light"
     },
     "output_type": "display_data"
    }
   ],
   "source": [
    "import seaborn as sns\n",
    "import matplotlib.pyplot as plt\n",
    "import numpy as np\n",
    "from statsmodels.api import qqplot\n",
    "\n",
    "# stack_overflow.converted_comp\n",
    "\n",
    "\n",
    "x = stack_overflow[\"converted_comp\"]\n",
    "mean = stack_overflow[\"converted_comp\"].mean()\n",
    "std = stack_overflow[\"converted_comp\"].std()\n",
    "standardized_form = (x - mean) / std\n",
    "\n",
    "sns.histplot(stack_overflow.converted_comp)\n",
    "plt.show()\n",
    "\n",
    "qqplot(data = x, line=\"s\")"
   ]
  },
  {
   "cell_type": "code",
   "execution_count": 43,
   "metadata": {},
   "outputs": [
    {
     "data": {
      "text/html": [
       "<div>\n",
       "<style scoped>\n",
       "    .dataframe tbody tr th:only-of-type {\n",
       "        vertical-align: middle;\n",
       "    }\n",
       "\n",
       "    .dataframe tbody tr th {\n",
       "        vertical-align: top;\n",
       "    }\n",
       "\n",
       "    .dataframe thead th {\n",
       "        text-align: right;\n",
       "    }\n",
       "</style>\n",
       "<table border=\"1\" class=\"dataframe\">\n",
       "  <thead>\n",
       "    <tr style=\"text-align: right;\">\n",
       "      <th>age_cat</th>\n",
       "      <th>At least 30</th>\n",
       "      <th>Under 30</th>\n",
       "    </tr>\n",
       "    <tr>\n",
       "      <th>job_sat</th>\n",
       "      <th></th>\n",
       "      <th></th>\n",
       "    </tr>\n",
       "  </thead>\n",
       "  <tbody>\n",
       "    <tr>\n",
       "      <th>Very dissatisfied</th>\n",
       "      <td>73.839009</td>\n",
       "      <td>85.160991</td>\n",
       "    </tr>\n",
       "    <tr>\n",
       "      <th>Slightly dissatisfied</th>\n",
       "      <td>158.823529</td>\n",
       "      <td>183.176471</td>\n",
       "    </tr>\n",
       "    <tr>\n",
       "      <th>Neither</th>\n",
       "      <td>93.343653</td>\n",
       "      <td>107.656347</td>\n",
       "    </tr>\n",
       "    <tr>\n",
       "      <th>Slightly satisfied</th>\n",
       "      <td>315.789474</td>\n",
       "      <td>364.210526</td>\n",
       "    </tr>\n",
       "    <tr>\n",
       "      <th>Very satisfied</th>\n",
       "      <td>408.204334</td>\n",
       "      <td>470.795666</td>\n",
       "    </tr>\n",
       "  </tbody>\n",
       "</table>\n",
       "</div>"
      ],
      "text/plain": [
       "age_cat                At least 30    Under 30\n",
       "job_sat                                       \n",
       "Very dissatisfied        73.839009   85.160991\n",
       "Slightly dissatisfied   158.823529  183.176471\n",
       "Neither                  93.343653  107.656347\n",
       "Slightly satisfied      315.789474  364.210526\n",
       "Very satisfied          408.204334  470.795666"
      ]
     },
     "execution_count": 43,
     "metadata": {},
     "output_type": "execute_result"
    }
   ],
   "source": [
    "# h0: Age categories are independent of job satisfaction levels.\n",
    "# h1: Age categories are not independent of job satisfaction levels.\n",
    "# ----------------------------------------------------------------\n",
    "\n",
    "# define alpha\n",
    "alpha = 0.01\n",
    "\n",
    "from scipy.stats import chi2_contingency\n",
    "import pingouin\n",
    "\n",
    "# use pingouin library.\n",
    "expected, observed, stats = pingouin.chi2_independence(data = stack_overflow, x = \"job_sat\", y = \"age_cat\")\n",
    "\n",
    "expected"
   ]
  },
  {
   "cell_type": "code",
   "execution_count": 44,
   "metadata": {},
   "outputs": [
    {
     "data": {
      "text/html": [
       "<div>\n",
       "<style scoped>\n",
       "    .dataframe tbody tr th:only-of-type {\n",
       "        vertical-align: middle;\n",
       "    }\n",
       "\n",
       "    .dataframe tbody tr th {\n",
       "        vertical-align: top;\n",
       "    }\n",
       "\n",
       "    .dataframe thead th {\n",
       "        text-align: right;\n",
       "    }\n",
       "</style>\n",
       "<table border=\"1\" class=\"dataframe\">\n",
       "  <thead>\n",
       "    <tr style=\"text-align: right;\">\n",
       "      <th>age_cat</th>\n",
       "      <th>At least 30</th>\n",
       "      <th>Under 30</th>\n",
       "    </tr>\n",
       "    <tr>\n",
       "      <th>job_sat</th>\n",
       "      <th></th>\n",
       "      <th></th>\n",
       "    </tr>\n",
       "  </thead>\n",
       "  <tbody>\n",
       "    <tr>\n",
       "      <th>Very dissatisfied</th>\n",
       "      <td>78</td>\n",
       "      <td>81</td>\n",
       "    </tr>\n",
       "    <tr>\n",
       "      <th>Slightly dissatisfied</th>\n",
       "      <td>160</td>\n",
       "      <td>182</td>\n",
       "    </tr>\n",
       "    <tr>\n",
       "      <th>Neither</th>\n",
       "      <td>87</td>\n",
       "      <td>114</td>\n",
       "    </tr>\n",
       "    <tr>\n",
       "      <th>Slightly satisfied</th>\n",
       "      <td>296</td>\n",
       "      <td>384</td>\n",
       "    </tr>\n",
       "    <tr>\n",
       "      <th>Very satisfied</th>\n",
       "      <td>429</td>\n",
       "      <td>450</td>\n",
       "    </tr>\n",
       "  </tbody>\n",
       "</table>\n",
       "</div>"
      ],
      "text/plain": [
       "age_cat                At least 30  Under 30\n",
       "job_sat                                     \n",
       "Very dissatisfied               78        81\n",
       "Slightly dissatisfied          160       182\n",
       "Neither                         87       114\n",
       "Slightly satisfied             296       384\n",
       "Very satisfied                 429       450"
      ]
     },
     "execution_count": 44,
     "metadata": {},
     "output_type": "execute_result"
    }
   ],
   "source": [
    "observed"
   ]
  },
  {
   "cell_type": "code",
   "execution_count": 45,
   "metadata": {},
   "outputs": [
    {
     "data": {
      "text/html": [
       "<div>\n",
       "<style scoped>\n",
       "    .dataframe tbody tr th:only-of-type {\n",
       "        vertical-align: middle;\n",
       "    }\n",
       "\n",
       "    .dataframe tbody tr th {\n",
       "        vertical-align: top;\n",
       "    }\n",
       "\n",
       "    .dataframe thead th {\n",
       "        text-align: right;\n",
       "    }\n",
       "</style>\n",
       "<table border=\"1\" class=\"dataframe\">\n",
       "  <thead>\n",
       "    <tr style=\"text-align: right;\">\n",
       "      <th></th>\n",
       "      <th>test</th>\n",
       "      <th>lambda</th>\n",
       "      <th>chi2</th>\n",
       "      <th>dof</th>\n",
       "      <th>pval</th>\n",
       "      <th>cramer</th>\n",
       "      <th>power</th>\n",
       "    </tr>\n",
       "  </thead>\n",
       "  <tbody>\n",
       "    <tr>\n",
       "      <th>0</th>\n",
       "      <td>pearson</td>\n",
       "      <td>1.000000</td>\n",
       "      <td>5.552373</td>\n",
       "      <td>4.0</td>\n",
       "      <td>0.235164</td>\n",
       "      <td>0.049555</td>\n",
       "      <td>0.437417</td>\n",
       "    </tr>\n",
       "    <tr>\n",
       "      <th>1</th>\n",
       "      <td>cressie-read</td>\n",
       "      <td>0.666667</td>\n",
       "      <td>5.554106</td>\n",
       "      <td>4.0</td>\n",
       "      <td>0.235014</td>\n",
       "      <td>0.049563</td>\n",
       "      <td>0.437545</td>\n",
       "    </tr>\n",
       "    <tr>\n",
       "      <th>2</th>\n",
       "      <td>log-likelihood</td>\n",
       "      <td>0.000000</td>\n",
       "      <td>5.558529</td>\n",
       "      <td>4.0</td>\n",
       "      <td>0.234632</td>\n",
       "      <td>0.049583</td>\n",
       "      <td>0.437871</td>\n",
       "    </tr>\n",
       "    <tr>\n",
       "      <th>3</th>\n",
       "      <td>freeman-tukey</td>\n",
       "      <td>-0.500000</td>\n",
       "      <td>5.562688</td>\n",
       "      <td>4.0</td>\n",
       "      <td>0.234274</td>\n",
       "      <td>0.049601</td>\n",
       "      <td>0.438178</td>\n",
       "    </tr>\n",
       "    <tr>\n",
       "      <th>4</th>\n",
       "      <td>mod-log-likelihood</td>\n",
       "      <td>-1.000000</td>\n",
       "      <td>5.567570</td>\n",
       "      <td>4.0</td>\n",
       "      <td>0.233854</td>\n",
       "      <td>0.049623</td>\n",
       "      <td>0.438538</td>\n",
       "    </tr>\n",
       "    <tr>\n",
       "      <th>5</th>\n",
       "      <td>neyman</td>\n",
       "      <td>-2.000000</td>\n",
       "      <td>5.579519</td>\n",
       "      <td>4.0</td>\n",
       "      <td>0.232828</td>\n",
       "      <td>0.049676</td>\n",
       "      <td>0.439419</td>\n",
       "    </tr>\n",
       "  </tbody>\n",
       "</table>\n",
       "</div>"
      ],
      "text/plain": [
       "                 test    lambda      chi2  dof      pval    cramer     power\n",
       "0             pearson  1.000000  5.552373  4.0  0.235164  0.049555  0.437417\n",
       "1        cressie-read  0.666667  5.554106  4.0  0.235014  0.049563  0.437545\n",
       "2      log-likelihood  0.000000  5.558529  4.0  0.234632  0.049583  0.437871\n",
       "3       freeman-tukey -0.500000  5.562688  4.0  0.234274  0.049601  0.438178\n",
       "4  mod-log-likelihood -1.000000  5.567570  4.0  0.233854  0.049623  0.438538\n",
       "5              neyman -2.000000  5.579519  4.0  0.232828  0.049676  0.439419"
      ]
     },
     "execution_count": 45,
     "metadata": {},
     "output_type": "execute_result"
    }
   ],
   "source": [
    "stats"
   ]
  },
  {
   "cell_type": "markdown",
   "metadata": {},
   "source": [
    "# One Variance Test:"
   ]
  },
  {
   "cell_type": "markdown",
   "metadata": {},
   "source": [
    "### Conditions for one-variance test:\n",
    "* Random samples.\n",
    "* Each observation should be independent of other.\n",
    "      * Sampling with replacement.\n",
    "      * If sampling without replacement, the sample size should not be more than 10 % of the population.\n",
    "* Data follows a Normal Distribution."
   ]
  },
  {
   "cell_type": "markdown",
   "metadata": {},
   "source": [
    "### What is one-variance test:\n",
    "* In this test,  we want to check whether the sample standard deviation or variance is equal to or not equal to the population variance.\n",
    "* So, we want to compare the sample variance with the population variance."
   ]
  },
  {
   "cell_type": "markdown",
   "metadata": {},
   "source": [
    "### Variance tests:\n",
    "1. <b>Chi-square tests</b>\n",
    "      * For testing the population variance against a specificied value.\n",
    "      * testing goodness of fit of some probability distribution.\n",
    "      * testing for independence of 2 attributes( Contingency tables )\n",
    "      \n",
    "2. <b>F-test</b>\n",
    "      * for testing equality of two variances from different populations.\n",
    "      * for testing equality of several means with technique of ANOVA.\n",
    "***\n",
    "<b>Note:</b> As a summary, one-variance test is used in chi-square, and two-variance test is used in F-test."
   ]
  },
  {
   "attachments": {
    "image.png": {
     "image/png": "[encoded data removed]"
    }
   },
   "cell_type": "markdown",
   "metadata": {},
   "source": [
    "<b>Formula for one-variance test:(Chi-square - $x^2$)</b>\n",
    "![image.png](attachment:image.png)"
   ]
  },
  {
   "cell_type": "markdown",
   "metadata": {},
   "source": [
    "### One-variance test Example 1:"
   ]
  },
  {
   "cell_type": "markdown",
   "metadata": {},
   "source": [
    "* A sample of 51 bottles was selected. The standard deviation of these 51 bottles was 2.35 cc. Has it increased from established 2 cc ?. 90 % confidence level. What is the critical value of Chi-square for 50 degrees of freedom ?"
   ]
  },
  {
   "cell_type": "code",
   "execution_count": 12,
   "metadata": {},
   "outputs": [
    {
     "name": "stdout",
     "output_type": "stream",
     "text": [
      "True\n",
      "0.038440502971046564\n",
      "69.03125000000001\n"
     ]
    }
   ],
   "source": [
    "# H0: s^2 <= q^2\n",
    "# H1: s^2 > q^2\n",
    "\n",
    "n = 51 \n",
    "standard_deviation = 2.35\n",
    "population_standard_deviation = 2\n",
    "alpha = 0.1\n",
    "\n",
    "from scipy.stats import chi2\n",
    "import numpy as np\n",
    "\n",
    "test = (n - 1) * np.square(2.35) / np.square(2)\n",
    "\n",
    "# right tailed test. (Does it have increase or not ?)\n",
    "# sf(x, df, loc=0, scale=1\n",
    "p_value = chi2.sf(test, df=50, loc=0, scale=1)\n",
    "\n",
    "# compare with alpha ( if true reject the null hypothesis.)\n",
    "print(p_value < alpha)\n",
    "print(p_value)\n",
    "print(test)"
   ]
  },
  {
   "cell_type": "code",
   "execution_count": 15,
   "metadata": {},
   "outputs": [
    {
     "name": "stdout",
     "output_type": "stream",
     "text": [
      "True\n",
      "0.07688100594209313\n"
     ]
    }
   ],
   "source": [
    "# H0: s^2 = q^2\n",
    "# H1: s^2 != q^2\n",
    "\n",
    "p_value = 2 * chi2.sf(test, df=50, loc=0, scale=1)\n",
    "\n",
    "p_value\n",
    "\n",
    "print(p_value < alpha)\n",
    "print(p_value)"
   ]
  },
  {
   "cell_type": "code",
   "execution_count": 18,
   "metadata": {},
   "outputs": [
    {
     "data": {
      "text/plain": [
       "array([  1.,   2.,   3.,   4.,   5.,   6.,   7.,   8.,   9.,  10.,  11.,\n",
       "        12.,  13.,  14.,  15.,  16.,  17.,  18.,  19.,  20.,  21.,  22.,\n",
       "        23.,  24.,  25.,  26.,  27.,  28.,  29.,  30.,  31.,  32.,  33.,\n",
       "        34.,  35.,  36.,  37.,  38.,  39.,  40.,  41.,  42.,  43.,  44.,\n",
       "        45.,  46.,  47.,  48.,  49.,  50.,  51.,  52.,  53.,  54.,  55.,\n",
       "        56.,  57.,  58.,  59.,  60.,  61.,  62.,  63.,  64.,  65.,  66.,\n",
       "        67.,  68.,  69.,  70.,  71.,  72.,  73.,  74.,  75.,  76.,  77.,\n",
       "        78.,  79.,  80.,  81.,  82.,  83.,  84.,  85.,  86.,  87.,  88.,\n",
       "        89.,  90.,  91.,  92.,  93.,  94.,  95.,  96.,  97.,  98.,  99.,\n",
       "       100.])"
      ]
     },
     "execution_count": 18,
     "metadata": {},
     "output_type": "execute_result"
    }
   ],
   "source": [
    "# Visualize the chi-square distribution of data\n",
    "\n",
    "x_ax = np.linspace(1, 100, 100)\n",
    "x_ax"
   ]
  },
  {
   "cell_type": "code",
   "execution_count": 19,
   "metadata": {},
   "outputs": [
    {
     "data": {
      "text/plain": [
       "array([2.91338042e-32, 2.96462558e-25, 3.02700284e-21, 1.82976479e-18,\n",
       "       2.35011080e-16, 1.13315939e-14, 2.77886028e-13, 4.15457113e-12,\n",
       "       4.25637120e-11, 3.23647330e-10, 1.93352251e-09, 9.46514893e-09,\n",
       "       3.91986185e-08, 1.40784850e-07, 4.47224968e-07, 1.27663917e-06,\n",
       "       3.31753456e-06, 7.93294099e-06, 1.76129979e-05, 3.65863863e-05,\n",
       "       7.15674349e-05, 1.32571288e-04, 2.33682377e-04, 3.93622990e-04,\n",
       "       6.35950953e-04, 9.88727298e-04, 1.48354004e-03, 2.15384499e-03,\n",
       "       3.03267869e-03, 4.14989705e-03, 5.52917863e-03, 7.18508992e-03,\n",
       "       9.12052932e-03, 1.13248447e-02, 1.37728580e-02, 1.64249396e-02,\n",
       "       1.92281677e-02, 2.21184964e-02, 2.50237625e-02, 2.78672807e-02,\n",
       "       3.05717374e-02, 3.30630785e-02, 3.52741056e-02, 3.71475411e-02,\n",
       "       3.86383815e-02, 3.97154342e-02, 4.03620024e-02, 4.05757513e-02,\n",
       "       4.03678438e-02, 3.97614757e-02, 3.87899640e-02, 3.74945509e-02,\n",
       "       3.59220852e-02, 3.41227216e-02, 3.21477612e-02, 3.00477248e-02,\n",
       "       2.78707233e-02, 2.56611614e-02, 2.34587843e-02, 2.12980573e-02,\n",
       "       1.92078511e-02, 1.72113940e-02, 1.53264455e-02, 1.35656433e-02,\n",
       "       1.19369764e-02, 1.04443397e-02, 9.08813060e-03, 7.86585540e-03,\n",
       "       6.77271796e-03, 5.80217111e-03, 4.94641670e-03, 4.19684572e-03,\n",
       "       3.54441439e-03, 2.97995620e-03, 2.49443211e-03, 2.07912376e-03,\n",
       "       1.72577546e-03, 1.42669161e-03, 1.17479636e-03, 9.63662258e-04,\n",
       "       7.87514165e-04, 6.41214209e-04, 5.20232711e-04, 4.20609487e-04,\n",
       "       3.38909057e-04, 2.72172690e-04, 2.17869551e-04, 1.73848667e-04,\n",
       "       1.38292986e-04, 1.09676348e-04, 8.67239254e-05, 6.83763835e-05,\n",
       "       5.37578381e-05, 4.21475442e-05, 3.29551335e-05, 2.56991583e-05,\n",
       "       1.99886603e-05, 1.55074590e-05, 1.20008568e-05, 9.26446496e-06])"
      ]
     },
     "execution_count": 19,
     "metadata": {},
     "output_type": "execute_result"
    }
   ],
   "source": [
    "y_ay = chi2.pdf(x_ax, df=50)\n",
    "\n",
    "y_ay"
   ]
  },
  {
   "cell_type": "code",
   "execution_count": 64,
   "metadata": {},
   "outputs": [
    {
     "data": {
      "image/png": "[encoded data removed]",
      "text/plain": [
       "<Figure size 576x576 with 1 Axes>"
      ]
     },
     "metadata": {
      "needs_background": "light"
     },
     "output_type": "display_data"
    }
   ],
   "source": [
    "import matplotlib.pyplot as plt\n",
    "import seaborn as sns\n",
    "\n",
    "plt.figure(figsize=(8,8))\n",
    "sns.lineplot(x = x_ax, y = y_ay)\n",
    "plt.axvline(x = test, ymin = 0, ymax = 0.93, color = \"red\", label = \"test-score\")\n",
    "plt.axvline(x = chi2.ppf(0.9, df=50), ymin = 0, ymax = 0.93, color = \"green\", label = \"critical value\")\n",
    "plt.legend()\n",
    "plt.show()"
   ]
  },
  {
   "cell_type": "code",
   "execution_count": 65,
   "metadata": {},
   "outputs": [
    {
     "data": {
      "text/plain": [
       "63.167121005726315"
      ]
     },
     "execution_count": 65,
     "metadata": {},
     "output_type": "execute_result"
    }
   ],
   "source": [
    "chi2.ppf(0.9, df=50)"
   ]
  },
  {
   "cell_type": "code",
   "execution_count": 66,
   "metadata": {},
   "outputs": [
    {
     "data": {
      "text/plain": [
       "63.167121005726315"
      ]
     },
     "execution_count": 66,
     "metadata": {},
     "output_type": "execute_result"
    }
   ],
   "source": [
    "chi2.isf(0.10, df=50)"
   ]
  },
  {
   "cell_type": "markdown",
   "metadata": {},
   "source": [
    "# Two variances test:"
   ]
  },
  {
   "cell_type": "markdown",
   "metadata": {},
   "source": [
    "### Conditions for two-variance test:\n",
    "* Random samples.\n",
    "* Each observation should be independent of other.\n",
    "      * Sampling with replacement.\n",
    "      * If sampling without replacement, the sample size should not be more than 10 % of the population.\n",
    "* Data follows a Normal Distribution."
   ]
  },
  {
   "cell_type": "markdown",
   "metadata": {},
   "source": [
    "* <b>F-test</b>\n",
    "      * for testing equality of two variances from different populations."
   ]
  },
  {
   "attachments": {
    "image.png": {
     "image/png": "[encoded data removed]"
    }
   },
   "cell_type": "markdown",
   "metadata": {},
   "source": [
    "<b>Formula:</b>\n",
    "![image.png](attachment:image.png)"
   ]
  },
  {
   "cell_type": "markdown",
   "metadata": {},
   "source": [
    "### Example question:"
   ]
  },
  {
   "cell_type": "markdown",
   "metadata": {},
   "source": [
    "We took 8 samples from machine A and the standard deviation was 1.1. For machine B we took 5 samples and the variance was 11.  Is there a difference in variance at 90 % confidence evel ?"
   ]
  },
  {
   "cell_type": "code",
   "execution_count": 38,
   "metadata": {},
   "outputs": [
    {
     "data": {
      "text/plain": [
       "9.09090909090909"
      ]
     },
     "execution_count": 38,
     "metadata": {},
     "output_type": "execute_result"
    }
   ],
   "source": [
    "# H0: Q1^2 = Q2^2\n",
    "# H1: Q1^2 != Q2^2\n",
    "\n",
    "std_a = 1.1**2\n",
    "std_b = 11\n",
    "\n",
    "f_score = std_b / std_a\n",
    "\n",
    "\n",
    "f_score"
   ]
  },
  {
   "cell_type": "code",
   "execution_count": 40,
   "metadata": {},
   "outputs": [],
   "source": [
    "import numpy as np\n",
    "import pandas as pd\n",
    "import matplotlib.pyplot as plt\n",
    "import seaborn as sns\n",
    "import scipy.stats as stats\n",
    "from scipy.stats import f"
   ]
  },
  {
   "cell_type": "code",
   "execution_count": 128,
   "metadata": {},
   "outputs": [
    {
     "data": {
      "text/plain": [
       "(4.120311726897633, 0.1640901524729093)"
      ]
     },
     "execution_count": 128,
     "metadata": {},
     "output_type": "execute_result"
    }
   ],
   "source": [
    "# we will use isf() function to find f-critical value.\n",
    "# f.isf(q, dfn, dfd, loc=0, scale=1) | Insverse survival function.(sf)(1 - cdf)\n",
    "\n",
    "# alpha = 0.1 | two-tailed : alpha / 2\n",
    "right_side = f.isf(0.05, dfn = 4, dfd = 7) # for right side.\n",
    "\n",
    "left_side = f.isf(0.95, dfn = 4, dfd = 7) # for left side.\n",
    "\n",
    "right_side,left_side"
   ]
  },
  {
   "cell_type": "code",
   "execution_count": 127,
   "metadata": {},
   "outputs": [
    {
     "data": {
      "image/png": "[encoded data removed]",
      "text/plain": [
       "<Figure size 432x288 with 1 Axes>"
      ]
     },
     "metadata": {
      "needs_background": "light"
     },
     "output_type": "display_data"
    }
   ],
   "source": [
    "dfn, dfd = 4, 7\n",
    "\n",
    "ax = np.linspace(0, 10, 1000)\n",
    "ay = f.pdf(x, dfn = 4, dfd = 7)\n",
    "\n",
    "\n",
    "sns.lineplot(x = ax, y = ay)\n",
    "plt.axvline(x = right_side, ymin=0, ymax = 0.131, color = \"red\", label = \"Right-side critical value\")\n",
    "plt.axvline(x = left_side, ymin = 0, ymax = 0.65, color = \"green\", label = \"Left-side critical value\")\n",
    "plt.axvline(x = f_score, ymin = 0, ymax = 0.059, color = \"black\", label = \"F_score\")\n",
    "\n",
    "plt.legend()\n",
    "plt.show()"
   ]
  },
  {
   "cell_type": "code",
   "execution_count": 129,
   "metadata": {},
   "outputs": [],
   "source": [
    "# Bartlett's test : is used to test homoscedascity. \n",
    "# (That is f multiple sameples are from populations with equal variances)\n",
    "# we know that some statistical tests, such as analysis of variance, assume -\n",
    "# that variances are equal accross groups, which can be verififed -\n",
    "# with Bartlet's test.\n",
    "\n",
    "# Bartlett's test is sensitive to departures from normality. \n",
    "# That is, if the samples come from non-normal distributions,\n",
    "# then Bartlett's test may simply be testing for non-normality.\n",
    "# Levene's test and the Brown–Forsythe test are alternatives to \n",
    "# the Bartlett test that are less sensitive to departures from normality."
   ]
  },
  {
   "cell_type": "code",
   "execution_count": 140,
   "metadata": {},
   "outputs": [
    {
     "data": {
      "text/plain": [
       "1.2367317910523616e-05"
      ]
     },
     "execution_count": 140,
     "metadata": {},
     "output_type": "execute_result"
    }
   ],
   "source": [
    "m1 = [150, 150, 151, 148, 151, 152, 149, 150]\n",
    "m2 = [135, 152, 154, 169, 157]\n",
    "\n",
    "alpha = 0.1\n",
    "\n",
    "stat, p_value = stats.bartlett(m1, m2)\n",
    "\n",
    "p_value"
   ]
  },
  {
   "cell_type": "code",
   "execution_count": 142,
   "metadata": {},
   "outputs": [
    {
     "data": {
      "text/plain": [
       "[1.5535714285714286, 149.3]"
      ]
     },
     "execution_count": 142,
     "metadata": {},
     "output_type": "execute_result"
    }
   ],
   "source": [
    "[np.var(x, ddof=1) for x in [m1, m2]]"
   ]
  },
  {
   "cell_type": "code",
   "execution_count": 143,
   "metadata": {},
   "outputs": [
    {
     "data": {
      "text/plain": [
       "LeveneResult(statistic=5.416245804750017, pvalue=0.040060452607943706)"
      ]
     },
     "execution_count": 143,
     "metadata": {},
     "output_type": "execute_result"
    }
   ],
   "source": [
    "# Levene test : it is an inferential statistic used to assess the equa-\n",
    "# lity of variances for a variable calculated for two or more groups.\n",
    "\n",
    "# Some common statistical procedures assume that variances of the popu -\n",
    "# lations from which different samples are drawn are equal.\n",
    "# Levene's test assesses this assumption.\n",
    "\n",
    "stats.levene(m1, m2) # much stronger much robust when it is compared with bartlett test"
   ]
  },
  {
   "cell_type": "markdown",
   "metadata": {},
   "source": [
    "# ANOVA:"
   ]
  },
  {
   "cell_type": "markdown",
   "metadata": {},
   "source": [
    "* Before conducting ANOVA, you can visualize the samples with box and whisker plot.\n",
    "***\n",
    "<b>F-test</b>:\n",
    "   * For testing equality of two variances from different populations.\n",
    "   * For testing equality of several means with tecnique of ANOVA."
   ]
  },
  {
   "cell_type": "markdown",
   "metadata": {},
   "source": [
    "### T-test vs ANOVA:\n",
    "\n",
    "#### T-test:\n",
    "* $H_0$: $\\mu_A$ = $\\mu_B$\n",
    "* $H_a$: $\\mu_A$ != $\\mu_B$\n",
    "\n",
    "#### ANOVA:\n",
    "* $H_0$: $\\mu_A$ = $\\mu_B$ = $\\mu_C$ = $\\mu_D$ ..... = $\\mu_K$\n",
    "* $H_a$: At least one of the means is different from others."
   ]
  },
  {
   "cell_type": "markdown",
   "metadata": {},
   "source": [
    "ANOVA tells you is that one of these means is different from others. We can use Post-hoc test for which one of these groups are different."
   ]
  },
  {
   "cell_type": "markdown",
   "metadata": {},
   "source": [
    "### Why ANOVA ?\n"
   ]
  },
  {
   "cell_type": "markdown",
   "metadata": {},
   "source": [
    "* We used t-test to compare the means of two populations.\n",
    "* What if we need to compare more than two populations ? With ANOVA we can find out if one or more populations have different mean or comes from a different population.\n",
    "* We could have conducted multiple t test.\n",
    "* How many t-test we need to conduct if have to compare 4 sample means? (6)\n",
    "* Each test is done with alpha = 0.05 or 95 % confidence.\n",
    "* 6 tests will result in confidence level of <b>0.95 x 0.95 x 0.95 x 0.95 x 0.95 x 0.95 = 0.735</b>\n",
    "* If you do 20 tests, 20 comparisons, one of those comparisons would be the wrong conclusion."
   ]
  },
  {
   "cell_type": "markdown",
   "metadata": {},
   "source": [
    "### Mathematical repres."
   ]
  },
  {
   "attachments": {
    "image.png": {
     "image/png": "[encoded data removed]"
    }
   },
   "cell_type": "markdown",
   "metadata": {},
   "source": [
    "* Anova is Analysis of Variance.\n",
    "***\n",
    "<b>Formula for variance:</b>\n",
    "![image.png](attachment:image.png)"
   ]
  },
  {
   "cell_type": "markdown",
   "metadata": {},
   "source": [
    "* Numerator of this formula is Sum of Squares(SS), the denominator is the degrees of freedom(df) for the sample.\n",
    "* <b>Formula: </b> SS / df"
   ]
  },
  {
   "attachments": {
    "image.png": {
     "image/png": "[encoded data removed]"
    }
   },
   "cell_type": "markdown",
   "metadata": {},
   "source": [
    "<b>Formula for f-test:</b>\n",
    "![image.png](attachment:image.png)"
   ]
  },
  {
   "cell_type": "markdown",
   "metadata": {},
   "source": [
    "* $SS_1$ / $df_1$ = $MSS_1$\n",
    "* $SS_2$ / $df_2$ = $MSS_2$"
   ]
  },
  {
   "cell_type": "markdown",
   "metadata": {},
   "source": [
    "$F$ = $MSS_1$ / $MSS_2$"
   ]
  },
  {
   "cell_type": "markdown",
   "metadata": {},
   "source": [
    "<b>Formula for ANOVA:</b>\n",
    "* $F$ = $MSS_{between}$ / $MSS_{within}$"
   ]
  },
  {
   "cell_type": "markdown",
   "metadata": {},
   "source": [
    "$F$ = ($SS_{between}$ / $df_{between}$) $/$ ($SS_{within}$ / $df_{within}$)"
   ]
  },
  {
   "cell_type": "markdown",
   "metadata": {},
   "source": [
    "$SST$ = $SS_{between}$ + $SS_{within}$"
   ]
  },
  {
   "cell_type": "markdown",
   "metadata": {},
   "source": [
    "### ANOVA manuel calculation:"
   ]
  },
  {
   "cell_type": "code",
   "execution_count": 1,
   "metadata": {},
   "outputs": [],
   "source": [
    "machine_1 = [150, 151, 152, 152, 151, 150]\n",
    "machine_2 = [153, 152, 148, 151, 149, 152]\n",
    "machine_3 = [156, 154, 155, 156, 157, 155]\n",
    "\n",
    "# H0:  u_1 = u_2 = u_3\n",
    "# H1:  Means are not all equal.(there is at least one machine which has a different meaning.)\n",
    "# Check at 95 % confidence level.(alpha is 0.05)"
   ]
  },
  {
   "cell_type": "code",
   "execution_count": 19,
   "metadata": {},
   "outputs": [
    {
     "data": {
      "text/plain": [
       "22.26470588235289"
      ]
     },
     "execution_count": 19,
     "metadata": {},
     "output_type": "execute_result"
    }
   ],
   "source": [
    "import numpy as np\n",
    "\n",
    "# Step 1: calculate SS_within.(SS_1 + SS_2 + SS_3)\n",
    "\n",
    "def SS_within(sample1, sample2, sample3):\n",
    "    \n",
    "    # Calculate the mean of each sample\n",
    "    sample_1_mean = np.mean(sample1)\n",
    "    sample_2_mean = np.mean(sample2)\n",
    "    sample_3_mean = np.mean(sample3)\n",
    "    \n",
    "    # Calculate the SS of each sample\n",
    "    SS_1 = sum(np.square(np.array(sample1) - sample_1_mean))\n",
    "    SS_2 = sum(np.square(np.array(sample2) - sample_2_mean))\n",
    "    SS_3 = sum(np.square(np.array(sample3) - sample_3_mean))\n",
    "    \n",
    "    # Calculate SS_within.\n",
    "    SS_within = SS_1 + SS_2 + SS_3\n",
    "    \n",
    "    return SS_within\n",
    "\n",
    "# Step 2: calculate SS_between : \n",
    "# 1. (calculate overall mean of samples and create means variable)\n",
    "# 2. (calculate sum of squares of means variable and multiply by length of samples.)\n",
    "\n",
    "def SS_between(sample1, sample2, sample3):\n",
    "    \n",
    "    # calculate the means of each sample\n",
    "    m1 = np.mean(sample1)\n",
    "    m2 = np.mean(sample2)\n",
    "    m3 = np.mean(sample3)\n",
    "    \n",
    "    # calculate the overall mean.\n",
    "    overall_mean = (m1 + m2 + m3) / 3\n",
    "    \n",
    "    # calulate the distance of each sample mean to the overall mean -\n",
    "    # take the square and multiply by number of items in each sample.\n",
    "    ss_between1 = np.square(m1 - overall_mean) \n",
    "    ss_between2 = np.square(m2 - overall_mean) \n",
    "    ss_between3 = np.square(m3 - overall_mean)\n",
    "    \n",
    "    # there are six items in each sample.\n",
    "    SS_between = (ss_between1 + ss_between2 + ss_between3) * 6\n",
    "    \n",
    "    return SS_between\n",
    "\n",
    "SS_between(machine_1, machine_2, machine_3)\n",
    "\n",
    "# Step 3: Total Degrees of freedom.\n",
    "# Total df = df_between + df_within.\n",
    "# df_between = 3 - 1 = 2\n",
    "# df_total = 18 - 1 = 17\n",
    "# df_within = (17 - 2) = 15\n",
    "\n",
    "def find_ddof(sample1, sample2, sample3):\n",
    "    samples = [sample1, sample2, sample3]\n",
    "    \n",
    "    df_total = sum([len(l) for l in samples]) - 1\n",
    "    df_between = len(samples) - 1\n",
    "    df_within = df_total - df_between\n",
    "    \n",
    "    return df_between, df_within\n",
    "\n",
    "# Step 4: calculate f value for anova.\n",
    "# find mss_between.\n",
    "# find mss_within.\n",
    "# f = mss_between / mss_within\n",
    "\n",
    "def F(sample1, sample2, sample3):\n",
    "    \n",
    "    # find SS_between\n",
    "    ss_between = SS_between(sample1, sample2, sample3)\n",
    "    # find SS_within\n",
    "    ss_within = SS_within(sample1, sample2, sample3)\n",
    "    # find df_between and df_within\n",
    "    df_between, df_within = find_ddof(sample1, sample2, sample3)\n",
    "    \n",
    "    # calculate mss_between and mss_within\n",
    "    mss_between = ss_between / df_between\n",
    "    mss_within = ss_within / df_within\n",
    "    \n",
    "    # find f-value. (mss_between / mss_within)\n",
    "    f = mss_between / mss_within\n",
    "    \n",
    "    return f\n",
    "\n",
    "F(machine_1, machine_2, machine_3)"
   ]
  },
  {
   "cell_type": "code",
   "execution_count": 20,
   "metadata": {},
   "outputs": [],
   "source": [
    "# Step 2 is to find f-critical value.\n",
    "# Theoretical we can find the f-critical value on the f-table.\n",
    "# F_0.05, 2, 15 (confidence level, df_between(numerator), df_within(denominator))\n",
    "# F 0.05, 2, 15 = 3.68 (one tail)\n",
    "# ANOVA is always one tail test.\n",
    "\n",
    "# F-value = 22.26\n",
    "# F-critical = 3.68\n",
    "\n",
    "# Reject the null hypothesis since the f-value is in the field of rejection region.\n",
    "# This means one of the mean of samples is different than others' mean."
   ]
  },
  {
   "cell_type": "code",
   "execution_count": 21,
   "metadata": {},
   "outputs": [],
   "source": [
    "# Do these same process using python libraries:"
   ]
  },
  {
   "cell_type": "code",
   "execution_count": 32,
   "metadata": {},
   "outputs": [],
   "source": [
    "import numpy as np\n",
    "import pandas as pd\n",
    "import matplotlib.pyplot as plt\n",
    "import seaborn as sns\n",
    "import scipy.stats as stats\n",
    "import statsmodels.stats.oneway as oneway"
   ]
  },
  {
   "cell_type": "code",
   "execution_count": 23,
   "metadata": {},
   "outputs": [],
   "source": [
    "# We are doing one-way anova."
   ]
  },
  {
   "cell_type": "code",
   "execution_count": 26,
   "metadata": {},
   "outputs": [],
   "source": [
    "m1 = [150, 151, 152, 152, 151, 150]\n",
    "m2 = [153, 152, 148, 151, 149, 152]\n",
    "m3 = [156, 154, 155, 156, 157, 155]"
   ]
  },
  {
   "cell_type": "code",
   "execution_count": 31,
   "metadata": {},
   "outputs": [
    {
     "name": "stdout",
     "output_type": "stream",
     "text": [
      "(22.264705882352935, 3.2374085509077445e-05)\n",
      "True\n"
     ]
    }
   ],
   "source": [
    "statistic, p_value = stats.f_oneway(m1, m2, m3)\n",
    "\n",
    "print((statistic, p_value)); print(p_value < 0.05)"
   ]
  },
  {
   "cell_type": "code",
   "execution_count": 36,
   "metadata": {},
   "outputs": [
    {
     "data": {
      "text/plain": [
       "<class 'statsmodels.stats.base.HolderTuple'>\n",
       "statistic = 22.264705882352896\n",
       "pvalue = 3.237408550907777e-05\n",
       "df = (2.0, 15.0)\n",
       "df_num = 2.0\n",
       "df_denom = 15.0\n",
       "nobs_t = 18.0\n",
       "n_groups = 3\n",
       "means = array([151.        , 150.83333333, 155.5       ])\n",
       "nobs = array([6., 6., 6.])\n",
       "vars_ = array([0.8       , 3.76666667, 1.1       ])\n",
       "use_var = 'equal'\n",
       "welch_correction = True\n",
       "tuple = (22.264705882352896, 3.237408550907777e-05)"
      ]
     },
     "execution_count": 36,
     "metadata": {},
     "output_type": "execute_result"
    }
   ],
   "source": [
    "# using statsmodels library.\n",
    "oneway.anova_oneway(data = (m1, m2, m3), use_var = \"equal\")"
   ]
  },
  {
   "cell_type": "code",
   "execution_count": 37,
   "metadata": {},
   "outputs": [],
   "source": [
    "# Let's we do the anavo on a dataset."
   ]
  },
  {
   "cell_type": "code",
   "execution_count": 66,
   "metadata": {},
   "outputs": [],
   "source": [
    "import numpy as np\n",
    "import pandas as pd\n",
    "import matplotlib.pyplot as plt\n",
    "import seaborn as sns\n",
    "import scipy.stats as stats\n",
    "import statsmodels.stats.oneway as oneway"
   ]
  },
  {
   "cell_type": "code",
   "execution_count": 40,
   "metadata": {},
   "outputs": [
    {
     "data": {
      "text/plain": [
       "['anagrams',\n",
       " 'anscombe',\n",
       " 'attention',\n",
       " 'brain_networks',\n",
       " 'car_crashes',\n",
       " 'diamonds',\n",
       " 'dots',\n",
       " 'dowjones',\n",
       " 'exercise',\n",
       " 'flights',\n",
       " 'fmri',\n",
       " 'geyser',\n",
       " 'glue',\n",
       " 'healthexp',\n",
       " 'iris',\n",
       " 'mpg',\n",
       " 'penguins',\n",
       " 'planets',\n",
       " 'seaice',\n",
       " 'taxis',\n",
       " 'tips',\n",
       " 'titanic']"
      ]
     },
     "execution_count": 40,
     "metadata": {},
     "output_type": "execute_result"
    }
   ],
   "source": [
    "sns.get_dataset_names()"
   ]
  },
  {
   "cell_type": "code",
   "execution_count": 67,
   "metadata": {},
   "outputs": [
    {
     "data": {
      "text/html": [
       "<div>\n",
       "<style scoped>\n",
       "    .dataframe tbody tr th:only-of-type {\n",
       "        vertical-align: middle;\n",
       "    }\n",
       "\n",
       "    .dataframe tbody tr th {\n",
       "        vertical-align: top;\n",
       "    }\n",
       "\n",
       "    .dataframe thead th {\n",
       "        text-align: right;\n",
       "    }\n",
       "</style>\n",
       "<table border=\"1\" class=\"dataframe\">\n",
       "  <thead>\n",
       "    <tr style=\"text-align: right;\">\n",
       "      <th></th>\n",
       "      <th>mpg</th>\n",
       "      <th>cylinders</th>\n",
       "      <th>displacement</th>\n",
       "      <th>horsepower</th>\n",
       "      <th>weight</th>\n",
       "      <th>acceleration</th>\n",
       "      <th>model_year</th>\n",
       "      <th>origin</th>\n",
       "      <th>name</th>\n",
       "    </tr>\n",
       "  </thead>\n",
       "  <tbody>\n",
       "    <tr>\n",
       "      <th>0</th>\n",
       "      <td>18.0</td>\n",
       "      <td>8</td>\n",
       "      <td>307.0</td>\n",
       "      <td>130.0</td>\n",
       "      <td>3504</td>\n",
       "      <td>12.0</td>\n",
       "      <td>70</td>\n",
       "      <td>usa</td>\n",
       "      <td>chevrolet chevelle malibu</td>\n",
       "    </tr>\n",
       "    <tr>\n",
       "      <th>1</th>\n",
       "      <td>15.0</td>\n",
       "      <td>8</td>\n",
       "      <td>350.0</td>\n",
       "      <td>165.0</td>\n",
       "      <td>3693</td>\n",
       "      <td>11.5</td>\n",
       "      <td>70</td>\n",
       "      <td>usa</td>\n",
       "      <td>buick skylark 320</td>\n",
       "    </tr>\n",
       "    <tr>\n",
       "      <th>2</th>\n",
       "      <td>18.0</td>\n",
       "      <td>8</td>\n",
       "      <td>318.0</td>\n",
       "      <td>150.0</td>\n",
       "      <td>3436</td>\n",
       "      <td>11.0</td>\n",
       "      <td>70</td>\n",
       "      <td>usa</td>\n",
       "      <td>plymouth satellite</td>\n",
       "    </tr>\n",
       "    <tr>\n",
       "      <th>3</th>\n",
       "      <td>16.0</td>\n",
       "      <td>8</td>\n",
       "      <td>304.0</td>\n",
       "      <td>150.0</td>\n",
       "      <td>3433</td>\n",
       "      <td>12.0</td>\n",
       "      <td>70</td>\n",
       "      <td>usa</td>\n",
       "      <td>amc rebel sst</td>\n",
       "    </tr>\n",
       "    <tr>\n",
       "      <th>4</th>\n",
       "      <td>17.0</td>\n",
       "      <td>8</td>\n",
       "      <td>302.0</td>\n",
       "      <td>140.0</td>\n",
       "      <td>3449</td>\n",
       "      <td>10.5</td>\n",
       "      <td>70</td>\n",
       "      <td>usa</td>\n",
       "      <td>ford torino</td>\n",
       "    </tr>\n",
       "  </tbody>\n",
       "</table>\n",
       "</div>"
      ],
      "text/plain": [
       "    mpg  cylinders  displacement  horsepower  weight  acceleration  \\\n",
       "0  18.0          8         307.0       130.0    3504          12.0   \n",
       "1  15.0          8         350.0       165.0    3693          11.5   \n",
       "2  18.0          8         318.0       150.0    3436          11.0   \n",
       "3  16.0          8         304.0       150.0    3433          12.0   \n",
       "4  17.0          8         302.0       140.0    3449          10.5   \n",
       "\n",
       "   model_year origin                       name  \n",
       "0          70    usa  chevrolet chevelle malibu  \n",
       "1          70    usa          buick skylark 320  \n",
       "2          70    usa         plymouth satellite  \n",
       "3          70    usa              amc rebel sst  \n",
       "4          70    usa                ford torino  "
      ]
     },
     "execution_count": 67,
     "metadata": {},
     "output_type": "execute_result"
    }
   ],
   "source": [
    "mpg = sns.load_dataset(\"mpg\")\n",
    "\n",
    "mpg.head()"
   ]
  },
  {
   "cell_type": "code",
   "execution_count": 43,
   "metadata": {},
   "outputs": [
    {
     "data": {
      "text/html": [
       "<div>\n",
       "<style scoped>\n",
       "    .dataframe tbody tr th:only-of-type {\n",
       "        vertical-align: middle;\n",
       "    }\n",
       "\n",
       "    .dataframe tbody tr th {\n",
       "        vertical-align: top;\n",
       "    }\n",
       "\n",
       "    .dataframe thead th {\n",
       "        text-align: right;\n",
       "    }\n",
       "</style>\n",
       "<table border=\"1\" class=\"dataframe\">\n",
       "  <thead>\n",
       "    <tr style=\"text-align: right;\">\n",
       "      <th></th>\n",
       "      <th>mpg</th>\n",
       "      <th>cylinders</th>\n",
       "      <th>displacement</th>\n",
       "      <th>horsepower</th>\n",
       "      <th>weight</th>\n",
       "      <th>acceleration</th>\n",
       "      <th>model_year</th>\n",
       "    </tr>\n",
       "    <tr>\n",
       "      <th>origin</th>\n",
       "      <th></th>\n",
       "      <th></th>\n",
       "      <th></th>\n",
       "      <th></th>\n",
       "      <th></th>\n",
       "      <th></th>\n",
       "      <th></th>\n",
       "    </tr>\n",
       "  </thead>\n",
       "  <tbody>\n",
       "    <tr>\n",
       "      <th>europe</th>\n",
       "      <td>27.891429</td>\n",
       "      <td>4.157143</td>\n",
       "      <td>109.142857</td>\n",
       "      <td>80.558824</td>\n",
       "      <td>2423.300000</td>\n",
       "      <td>16.787143</td>\n",
       "      <td>75.814286</td>\n",
       "    </tr>\n",
       "    <tr>\n",
       "      <th>japan</th>\n",
       "      <td>30.450633</td>\n",
       "      <td>4.101266</td>\n",
       "      <td>102.708861</td>\n",
       "      <td>79.835443</td>\n",
       "      <td>2221.227848</td>\n",
       "      <td>16.172152</td>\n",
       "      <td>77.443038</td>\n",
       "    </tr>\n",
       "    <tr>\n",
       "      <th>usa</th>\n",
       "      <td>20.083534</td>\n",
       "      <td>6.248996</td>\n",
       "      <td>245.901606</td>\n",
       "      <td>119.048980</td>\n",
       "      <td>3361.931727</td>\n",
       "      <td>15.033735</td>\n",
       "      <td>75.610442</td>\n",
       "    </tr>\n",
       "  </tbody>\n",
       "</table>\n",
       "</div>"
      ],
      "text/plain": [
       "              mpg  cylinders  displacement  horsepower       weight  \\\n",
       "origin                                                                \n",
       "europe  27.891429   4.157143    109.142857   80.558824  2423.300000   \n",
       "japan   30.450633   4.101266    102.708861   79.835443  2221.227848   \n",
       "usa     20.083534   6.248996    245.901606  119.048980  3361.931727   \n",
       "\n",
       "        acceleration  model_year  \n",
       "origin                            \n",
       "europe     16.787143   75.814286  \n",
       "japan      16.172152   77.443038  \n",
       "usa        15.033735   75.610442  "
      ]
     },
     "execution_count": 43,
     "metadata": {},
     "output_type": "execute_result"
    }
   ],
   "source": [
    "mpg.groupby(\"origin\").mean() # mpg = miles per galon."
   ]
  },
  {
   "cell_type": "code",
   "execution_count": 51,
   "metadata": {},
   "outputs": [
    {
     "data": {
      "text/html": [
       "<div>\n",
       "<style scoped>\n",
       "    .dataframe tbody tr th:only-of-type {\n",
       "        vertical-align: middle;\n",
       "    }\n",
       "\n",
       "    .dataframe tbody tr th {\n",
       "        vertical-align: top;\n",
       "    }\n",
       "\n",
       "    .dataframe thead th {\n",
       "        text-align: right;\n",
       "    }\n",
       "</style>\n",
       "<table border=\"1\" class=\"dataframe\">\n",
       "  <thead>\n",
       "    <tr style=\"text-align: right;\">\n",
       "      <th></th>\n",
       "      <th></th>\n",
       "      <th>mpg</th>\n",
       "      <th>displacement</th>\n",
       "      <th>horsepower</th>\n",
       "      <th>weight</th>\n",
       "      <th>acceleration</th>\n",
       "      <th>model_year</th>\n",
       "    </tr>\n",
       "    <tr>\n",
       "      <th>origin</th>\n",
       "      <th>cylinders</th>\n",
       "      <th></th>\n",
       "      <th></th>\n",
       "      <th></th>\n",
       "      <th></th>\n",
       "      <th></th>\n",
       "      <th></th>\n",
       "    </tr>\n",
       "  </thead>\n",
       "  <tbody>\n",
       "    <tr>\n",
       "      <th rowspan=\"3\" valign=\"top\">europe</th>\n",
       "      <th>4</th>\n",
       "      <td>28.411111</td>\n",
       "      <td>104.222222</td>\n",
       "      <td>78.311475</td>\n",
       "      <td>2330.015873</td>\n",
       "      <td>16.722222</td>\n",
       "      <td>75.507937</td>\n",
       "    </tr>\n",
       "    <tr>\n",
       "      <th>5</th>\n",
       "      <td>27.366667</td>\n",
       "      <td>145.000000</td>\n",
       "      <td>82.333333</td>\n",
       "      <td>3103.333333</td>\n",
       "      <td>18.633333</td>\n",
       "      <td>79.000000</td>\n",
       "    </tr>\n",
       "    <tr>\n",
       "      <th>6</th>\n",
       "      <td>20.100000</td>\n",
       "      <td>159.750000</td>\n",
       "      <td>113.500000</td>\n",
       "      <td>3382.500000</td>\n",
       "      <td>16.425000</td>\n",
       "      <td>78.250000</td>\n",
       "    </tr>\n",
       "    <tr>\n",
       "      <th rowspan=\"3\" valign=\"top\">japan</th>\n",
       "      <th>3</th>\n",
       "      <td>20.550000</td>\n",
       "      <td>72.500000</td>\n",
       "      <td>99.250000</td>\n",
       "      <td>2398.500000</td>\n",
       "      <td>13.250000</td>\n",
       "      <td>75.500000</td>\n",
       "    </tr>\n",
       "    <tr>\n",
       "      <th>4</th>\n",
       "      <td>31.595652</td>\n",
       "      <td>99.768116</td>\n",
       "      <td>75.579710</td>\n",
       "      <td>2153.492754</td>\n",
       "      <td>16.569565</td>\n",
       "      <td>77.507246</td>\n",
       "    </tr>\n",
       "    <tr>\n",
       "      <th>6</th>\n",
       "      <td>23.883333</td>\n",
       "      <td>156.666667</td>\n",
       "      <td>115.833333</td>\n",
       "      <td>2882.000000</td>\n",
       "      <td>13.550000</td>\n",
       "      <td>78.000000</td>\n",
       "    </tr>\n",
       "    <tr>\n",
       "      <th rowspan=\"3\" valign=\"top\">usa</th>\n",
       "      <th>4</th>\n",
       "      <td>27.840278</td>\n",
       "      <td>124.284722</td>\n",
       "      <td>80.956522</td>\n",
       "      <td>2437.166667</td>\n",
       "      <td>16.526389</td>\n",
       "      <td>78.027778</td>\n",
       "    </tr>\n",
       "    <tr>\n",
       "      <th>6</th>\n",
       "      <td>19.663514</td>\n",
       "      <td>226.283784</td>\n",
       "      <td>99.671233</td>\n",
       "      <td>3213.905405</td>\n",
       "      <td>16.474324</td>\n",
       "      <td>75.635135</td>\n",
       "    </tr>\n",
       "    <tr>\n",
       "      <th>8</th>\n",
       "      <td>14.963107</td>\n",
       "      <td>345.009709</td>\n",
       "      <td>158.300971</td>\n",
       "      <td>4114.718447</td>\n",
       "      <td>12.955340</td>\n",
       "      <td>73.902913</td>\n",
       "    </tr>\n",
       "  </tbody>\n",
       "</table>\n",
       "</div>"
      ],
      "text/plain": [
       "                        mpg  displacement  horsepower       weight  \\\n",
       "origin cylinders                                                     \n",
       "europe 4          28.411111    104.222222   78.311475  2330.015873   \n",
       "       5          27.366667    145.000000   82.333333  3103.333333   \n",
       "       6          20.100000    159.750000  113.500000  3382.500000   \n",
       "japan  3          20.550000     72.500000   99.250000  2398.500000   \n",
       "       4          31.595652     99.768116   75.579710  2153.492754   \n",
       "       6          23.883333    156.666667  115.833333  2882.000000   \n",
       "usa    4          27.840278    124.284722   80.956522  2437.166667   \n",
       "       6          19.663514    226.283784   99.671233  3213.905405   \n",
       "       8          14.963107    345.009709  158.300971  4114.718447   \n",
       "\n",
       "                  acceleration  model_year  \n",
       "origin cylinders                            \n",
       "europe 4             16.722222   75.507937  \n",
       "       5             18.633333   79.000000  \n",
       "       6             16.425000   78.250000  \n",
       "japan  3             13.250000   75.500000  \n",
       "       4             16.569565   77.507246  \n",
       "       6             13.550000   78.000000  \n",
       "usa    4             16.526389   78.027778  \n",
       "       6             16.474324   75.635135  \n",
       "       8             12.955340   73.902913  "
      ]
     },
     "execution_count": 51,
     "metadata": {},
     "output_type": "execute_result"
    }
   ],
   "source": [
    "mpg.groupby([\"origin\", \"cylinders\"]).mean()"
   ]
  },
  {
   "cell_type": "code",
   "execution_count": 54,
   "metadata": {},
   "outputs": [
    {
     "data": {
      "image/png": "[encoded data removed]",
      "text/plain": [
       "<Figure size 360x360 with 1 Axes>"
      ]
     },
     "metadata": {
      "needs_background": "light"
     },
     "output_type": "display_data"
    }
   ],
   "source": [
    "sns.catplot(data = mpg, x = \"origin\", y = \"mpg\", kind = \"box\")\n",
    "plt.show()"
   ]
  },
  {
   "cell_type": "code",
   "execution_count": 56,
   "metadata": {},
   "outputs": [
    {
     "data": {
      "text/plain": [
       "14     24.0\n",
       "18     27.0\n",
       "19     26.0\n",
       "20     25.0\n",
       "21     24.0\n",
       "       ... \n",
       "393    27.0\n",
       "394    44.0\n",
       "395    32.0\n",
       "396    28.0\n",
       "397    31.0\n",
       "Name: mpg, Length: 204, dtype: float64"
      ]
     },
     "execution_count": 56,
     "metadata": {},
     "output_type": "execute_result"
    }
   ],
   "source": [
    "mpg[mpg[\"cylinders\"] == 4][\"mpg\"]"
   ]
  },
  {
   "cell_type": "code",
   "execution_count": 57,
   "metadata": {},
   "outputs": [
    {
     "data": {
      "image/png": "[encoded data removed]",
      "text/plain": [
       "<Figure size 360x360 with 1 Axes>"
      ]
     },
     "metadata": {
      "needs_background": "light"
     },
     "output_type": "display_data"
    }
   ],
   "source": [
    "sns.catplot(data = mpg, x = \"origin\", y = mpg[mpg[\"cylinders\"] == 4][\"mpg\"], kind = \"box\")\n",
    "plt.show()"
   ]
  },
  {
   "cell_type": "code",
   "execution_count": 61,
   "metadata": {},
   "outputs": [],
   "source": [
    "eu = mpg[(mpg[\"cylinders\"] == 4) & (mpg[\"origin\"] == \"europe\")][\"mpg\"]\n",
    "jp = mpg[(mpg[\"cylinders\"] == 4) & (mpg[\"origin\"] == \"japan\")][\"mpg\"]\n",
    "us = mpg[(mpg[\"cylinders\"] == 4) & (mpg[\"origin\"] == \"usa\")][\"mpg\"]"
   ]
  },
  {
   "cell_type": "code",
   "execution_count": 63,
   "metadata": {},
   "outputs": [
    {
     "data": {
      "text/plain": [
       "0.00012379894210177303"
      ]
     },
     "execution_count": 63,
     "metadata": {},
     "output_type": "execute_result"
    }
   ],
   "source": [
    "statistic, p_value = stats.f_oneway(eu, jp, us)\n",
    "p_value"
   ]
  },
  {
   "cell_type": "code",
   "execution_count": 64,
   "metadata": {},
   "outputs": [
    {
     "data": {
      "text/plain": [
       "True"
      ]
     },
     "execution_count": 64,
     "metadata": {},
     "output_type": "execute_result"
    }
   ],
   "source": [
    "alpha = 0.05\n",
    "p_value < alpha"
   ]
  },
  {
   "cell_type": "code",
   "execution_count": null,
   "metadata": {},
   "outputs": [],
   "source": [
    "# I can say that there is a significant difference in the Miles per Galon -\n",
    "# for cars produced in Europe, Japan, and USA."
   ]
  },
  {
   "cell_type": "markdown",
   "metadata": {},
   "source": [
    "# Post Hoc Test ( Tuckey's HSD )"
   ]
  },
  {
   "cell_type": "markdown",
   "metadata": {},
   "source": [
    "Post hoc tests attempt to control the experimentwise error rate(usually alpha = 0.05) just like one way ANOVA is used instead of multiple t-tests."
   ]
  },
  {
   "cell_type": "markdown",
   "metadata": {},
   "source": [
    "One popular test is Tukey's Test. Other tests include:"
   ]
  },
  {
   "cell_type": "code",
   "execution_count": 65,
   "metadata": {},
   "outputs": [],
   "source": [
    "import statsmodels.stats.oneway as oneway\n",
    "from statsmodels.stats.multicomp import pairwise_tukeyhsd"
   ]
  },
  {
   "cell_type": "code",
   "execution_count": 68,
   "metadata": {},
   "outputs": [
    {
     "data": {
      "text/html": [
       "<div>\n",
       "<style scoped>\n",
       "    .dataframe tbody tr th:only-of-type {\n",
       "        vertical-align: middle;\n",
       "    }\n",
       "\n",
       "    .dataframe tbody tr th {\n",
       "        vertical-align: top;\n",
       "    }\n",
       "\n",
       "    .dataframe thead th {\n",
       "        text-align: right;\n",
       "    }\n",
       "</style>\n",
       "<table border=\"1\" class=\"dataframe\">\n",
       "  <thead>\n",
       "    <tr style=\"text-align: right;\">\n",
       "      <th></th>\n",
       "      <th>mpg</th>\n",
       "      <th>cylinders</th>\n",
       "      <th>displacement</th>\n",
       "      <th>horsepower</th>\n",
       "      <th>weight</th>\n",
       "      <th>acceleration</th>\n",
       "      <th>model_year</th>\n",
       "      <th>origin</th>\n",
       "      <th>name</th>\n",
       "    </tr>\n",
       "  </thead>\n",
       "  <tbody>\n",
       "    <tr>\n",
       "      <th>0</th>\n",
       "      <td>18.0</td>\n",
       "      <td>8</td>\n",
       "      <td>307.0</td>\n",
       "      <td>130.0</td>\n",
       "      <td>3504</td>\n",
       "      <td>12.0</td>\n",
       "      <td>70</td>\n",
       "      <td>usa</td>\n",
       "      <td>chevrolet chevelle malibu</td>\n",
       "    </tr>\n",
       "    <tr>\n",
       "      <th>1</th>\n",
       "      <td>15.0</td>\n",
       "      <td>8</td>\n",
       "      <td>350.0</td>\n",
       "      <td>165.0</td>\n",
       "      <td>3693</td>\n",
       "      <td>11.5</td>\n",
       "      <td>70</td>\n",
       "      <td>usa</td>\n",
       "      <td>buick skylark 320</td>\n",
       "    </tr>\n",
       "    <tr>\n",
       "      <th>2</th>\n",
       "      <td>18.0</td>\n",
       "      <td>8</td>\n",
       "      <td>318.0</td>\n",
       "      <td>150.0</td>\n",
       "      <td>3436</td>\n",
       "      <td>11.0</td>\n",
       "      <td>70</td>\n",
       "      <td>usa</td>\n",
       "      <td>plymouth satellite</td>\n",
       "    </tr>\n",
       "    <tr>\n",
       "      <th>3</th>\n",
       "      <td>16.0</td>\n",
       "      <td>8</td>\n",
       "      <td>304.0</td>\n",
       "      <td>150.0</td>\n",
       "      <td>3433</td>\n",
       "      <td>12.0</td>\n",
       "      <td>70</td>\n",
       "      <td>usa</td>\n",
       "      <td>amc rebel sst</td>\n",
       "    </tr>\n",
       "    <tr>\n",
       "      <th>4</th>\n",
       "      <td>17.0</td>\n",
       "      <td>8</td>\n",
       "      <td>302.0</td>\n",
       "      <td>140.0</td>\n",
       "      <td>3449</td>\n",
       "      <td>10.5</td>\n",
       "      <td>70</td>\n",
       "      <td>usa</td>\n",
       "      <td>ford torino</td>\n",
       "    </tr>\n",
       "  </tbody>\n",
       "</table>\n",
       "</div>"
      ],
      "text/plain": [
       "    mpg  cylinders  displacement  horsepower  weight  acceleration  \\\n",
       "0  18.0          8         307.0       130.0    3504          12.0   \n",
       "1  15.0          8         350.0       165.0    3693          11.5   \n",
       "2  18.0          8         318.0       150.0    3436          11.0   \n",
       "3  16.0          8         304.0       150.0    3433          12.0   \n",
       "4  17.0          8         302.0       140.0    3449          10.5   \n",
       "\n",
       "   model_year origin                       name  \n",
       "0          70    usa  chevrolet chevelle malibu  \n",
       "1          70    usa          buick skylark 320  \n",
       "2          70    usa         plymouth satellite  \n",
       "3          70    usa              amc rebel sst  \n",
       "4          70    usa                ford torino  "
      ]
     },
     "execution_count": 68,
     "metadata": {},
     "output_type": "execute_result"
    }
   ],
   "source": [
    "mpg.head()"
   ]
  },
  {
   "cell_type": "code",
   "execution_count": 71,
   "metadata": {},
   "outputs": [
    {
     "data": {
      "text/html": [
       "<div>\n",
       "<style scoped>\n",
       "    .dataframe tbody tr th:only-of-type {\n",
       "        vertical-align: middle;\n",
       "    }\n",
       "\n",
       "    .dataframe tbody tr th {\n",
       "        vertical-align: top;\n",
       "    }\n",
       "\n",
       "    .dataframe thead th {\n",
       "        text-align: right;\n",
       "    }\n",
       "</style>\n",
       "<table border=\"1\" class=\"dataframe\">\n",
       "  <thead>\n",
       "    <tr style=\"text-align: right;\">\n",
       "      <th></th>\n",
       "      <th>mpg</th>\n",
       "      <th>origin</th>\n",
       "    </tr>\n",
       "  </thead>\n",
       "  <tbody>\n",
       "    <tr>\n",
       "      <th>14</th>\n",
       "      <td>24.0</td>\n",
       "      <td>japan</td>\n",
       "    </tr>\n",
       "    <tr>\n",
       "      <th>18</th>\n",
       "      <td>27.0</td>\n",
       "      <td>japan</td>\n",
       "    </tr>\n",
       "    <tr>\n",
       "      <th>19</th>\n",
       "      <td>26.0</td>\n",
       "      <td>europe</td>\n",
       "    </tr>\n",
       "    <tr>\n",
       "      <th>20</th>\n",
       "      <td>25.0</td>\n",
       "      <td>europe</td>\n",
       "    </tr>\n",
       "    <tr>\n",
       "      <th>21</th>\n",
       "      <td>24.0</td>\n",
       "      <td>europe</td>\n",
       "    </tr>\n",
       "    <tr>\n",
       "      <th>22</th>\n",
       "      <td>25.0</td>\n",
       "      <td>europe</td>\n",
       "    </tr>\n",
       "    <tr>\n",
       "      <th>23</th>\n",
       "      <td>26.0</td>\n",
       "      <td>europe</td>\n",
       "    </tr>\n",
       "    <tr>\n",
       "      <th>29</th>\n",
       "      <td>27.0</td>\n",
       "      <td>japan</td>\n",
       "    </tr>\n",
       "    <tr>\n",
       "      <th>30</th>\n",
       "      <td>28.0</td>\n",
       "      <td>usa</td>\n",
       "    </tr>\n",
       "    <tr>\n",
       "      <th>31</th>\n",
       "      <td>25.0</td>\n",
       "      <td>japan</td>\n",
       "    </tr>\n",
       "  </tbody>\n",
       "</table>\n",
       "</div>"
      ],
      "text/plain": [
       "     mpg  origin\n",
       "14  24.0   japan\n",
       "18  27.0   japan\n",
       "19  26.0  europe\n",
       "20  25.0  europe\n",
       "21  24.0  europe\n",
       "22  25.0  europe\n",
       "23  26.0  europe\n",
       "29  27.0   japan\n",
       "30  28.0     usa\n",
       "31  25.0   japan"
      ]
     },
     "execution_count": 71,
     "metadata": {},
     "output_type": "execute_result"
    }
   ],
   "source": [
    "df = mpg[mpg[\"cylinders\"] == 4][[\"mpg\", \"origin\"]]\n",
    "    \n",
    "df.head(10)   "
   ]
  },
  {
   "cell_type": "code",
   "execution_count": 73,
   "metadata": {},
   "outputs": [],
   "source": [
    "result = pairwise_tukeyhsd(endog=df[\"mpg\"], groups = df[\"origin\"], alpha = 0.05 )"
   ]
  },
  {
   "cell_type": "code",
   "execution_count": 75,
   "metadata": {},
   "outputs": [
    {
     "name": "stdout",
     "output_type": "stream",
     "text": [
      "Multiple Comparison of Means - Tukey HSD, FWER=0.05 \n",
      "====================================================\n",
      "group1 group2 meandiff p-adj   lower   upper  reject\n",
      "----------------------------------------------------\n",
      "europe  japan   3.1845  0.003  0.9267  5.4423   True\n",
      "europe    usa  -0.5708 0.8186 -2.8061  1.6644  False\n",
      " japan    usa  -3.7554 0.0002 -5.9382 -1.5726   True\n",
      "----------------------------------------------------\n"
     ]
    }
   ],
   "source": [
    "print(result)"
   ]
  },
  {
   "cell_type": "code",
   "execution_count": 77,
   "metadata": {},
   "outputs": [
    {
     "data": {
      "text/html": [
       "<div>\n",
       "<style scoped>\n",
       "    .dataframe tbody tr th:only-of-type {\n",
       "        vertical-align: middle;\n",
       "    }\n",
       "\n",
       "    .dataframe tbody tr th {\n",
       "        vertical-align: top;\n",
       "    }\n",
       "\n",
       "    .dataframe thead th {\n",
       "        text-align: right;\n",
       "    }\n",
       "</style>\n",
       "<table border=\"1\" class=\"dataframe\">\n",
       "  <thead>\n",
       "    <tr style=\"text-align: right;\">\n",
       "      <th></th>\n",
       "      <th>volume</th>\n",
       "      <th>machine</th>\n",
       "    </tr>\n",
       "  </thead>\n",
       "  <tbody>\n",
       "    <tr>\n",
       "      <th>0</th>\n",
       "      <td>150</td>\n",
       "      <td>Machine1</td>\n",
       "    </tr>\n",
       "    <tr>\n",
       "      <th>1</th>\n",
       "      <td>151</td>\n",
       "      <td>Machine1</td>\n",
       "    </tr>\n",
       "    <tr>\n",
       "      <th>2</th>\n",
       "      <td>152</td>\n",
       "      <td>Machine1</td>\n",
       "    </tr>\n",
       "    <tr>\n",
       "      <th>3</th>\n",
       "      <td>152</td>\n",
       "      <td>Machine1</td>\n",
       "    </tr>\n",
       "    <tr>\n",
       "      <th>4</th>\n",
       "      <td>151</td>\n",
       "      <td>Machine1</td>\n",
       "    </tr>\n",
       "  </tbody>\n",
       "</table>\n",
       "</div>"
      ],
      "text/plain": [
       "   volume   machine\n",
       "0     150  Machine1\n",
       "1     151  Machine1\n",
       "2     152  Machine1\n",
       "3     152  Machine1\n",
       "4     151  Machine1"
      ]
     },
     "execution_count": 77,
     "metadata": {},
     "output_type": "execute_result"
    }
   ],
   "source": [
    "m13 = pd.concat([\n",
    "pd.DataFrame(data = {\"volume\": m1, \"machine\": \"Machine1\"}),\n",
    "pd.DataFrame(data = {\"volume\": m2, \"machine\": \"Machine2\"}),\n",
    "pd.DataFrame(data = {\"volume\": m3, \"machine\": \"Machine3\"})\n",
    "])\n",
    "\n",
    "m13.head()"
   ]
  },
  {
   "cell_type": "code",
   "execution_count": 79,
   "metadata": {},
   "outputs": [
    {
     "name": "stdout",
     "output_type": "stream",
     "text": [
      "  Multiple Comparison of Means - Tukey HSD, FWER=0.05  \n",
      "=======================================================\n",
      " group1   group2  meandiff p-adj   lower  upper  reject\n",
      "-------------------------------------------------------\n",
      "Machine1 Machine2  -0.1667  0.976 -2.2277 1.8944  False\n",
      "Machine1 Machine3      4.5 0.0001  2.4389 6.5611   True\n",
      "Machine2 Machine3   4.6667 0.0001  2.6056 6.7277   True\n",
      "-------------------------------------------------------\n"
     ]
    }
   ],
   "source": [
    "result1 = pairwise_tukeyhsd(endog = m13[\"volume\"], groups = m13[\"machine\"], alpha=0.05)\n",
    "\n",
    "print(result1)"
   ]
  },
  {
   "cell_type": "code",
   "execution_count": 80,
   "metadata": {},
   "outputs": [
    {
     "data": {
      "image/png": "[encoded data removed]",
      "text/plain": [
       "<Figure size 432x288 with 1 Axes>"
      ]
     },
     "metadata": {
      "needs_background": "light"
     },
     "output_type": "display_data"
    }
   ],
   "source": [
    "import seaborn as sns\n",
    "import matplotlib.pyplot as plt\n",
    "\n",
    "sns.boxplot(data = m13, x = \"machine\", y = \"volume\")\n",
    "plt.show()"
   ]
  },
  {
   "cell_type": "code",
   "execution_count": null,
   "metadata": {},
   "outputs": [],
   "source": []
  }
 ],
 "metadata": {
  "kernelspec": {
   "display_name": "Python 3",
   "language": "python",
   "name": "python3"
  },
  "language_info": {
   "codemirror_mode": {
    "name": "ipython",
    "version": 3
   },
   "file_extension": ".py",
   "mimetype": "text/x-python",
   "name": "python",
   "nbconvert_exporter": "python",
   "pygments_lexer": "ipython3",
   "version": "3.8.5"
  }
 },
 "nbformat": 4,
 "nbformat_minor": 4
}
